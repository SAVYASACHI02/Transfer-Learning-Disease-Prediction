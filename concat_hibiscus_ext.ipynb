{
 "cells": [
  {
   "cell_type": "code",
   "execution_count": 2,
   "id": "fe91c9f6",
   "metadata": {},
   "outputs": [
    {
     "name": "stdout",
     "output_type": "stream",
     "text": [
      "Found 2238 images belonging to 2 classes.\n",
      "Found 482 images belonging to 2 classes.\n",
      "Found 480 images belonging to 2 classes.\n"
     ]
    },
    {
     "name": "stderr",
     "output_type": "stream",
     "text": [
      "C:\\Users\\HP\\Documents\\anaconda2\\Lib\\site-packages\\keras\\src\\trainers\\data_adapters\\py_dataset_adapter.py:121: UserWarning: Your `PyDataset` class should call `super().__init__(**kwargs)` in its constructor. `**kwargs` can include `workers`, `use_multiprocessing`, `max_queue_size`. Do not pass these arguments to `fit()`, as they will be ignored.\n",
      "  self._warn_if_super_not_called()\n"
     ]
    },
    {
     "name": "stdout",
     "output_type": "stream",
     "text": [
      "Epoch 1/15\n",
      "\u001b[1m69/69\u001b[0m \u001b[32m━━━━━━━━━━━━━━━━━━━━\u001b[0m\u001b[37m\u001b[0m \u001b[1m656s\u001b[0m 9s/step - accuracy: 0.8655 - loss: 0.3512 - val_accuracy: 0.9875 - val_loss: 0.0706\n",
      "Epoch 2/15\n",
      "\u001b[1m 1/69\u001b[0m \u001b[37m━━━━━━━━━━━━━━━━━━━━\u001b[0m \u001b[1m8:02\u001b[0m 7s/step - accuracy: 1.0000 - loss: 0.0465"
     ]
    },
    {
     "name": "stderr",
     "output_type": "stream",
     "text": [
      "C:\\Users\\HP\\Documents\\anaconda2\\Lib\\site-packages\\keras\\src\\trainers\\epoch_iterator.py:107: UserWarning: Your input ran out of data; interrupting training. Make sure that your dataset or generator can generate at least `steps_per_epoch * epochs` batches. You may need to use the `.repeat()` function when building your dataset.\n",
      "  self._interrupted_warning()\n"
     ]
    },
    {
     "name": "stdout",
     "output_type": "stream",
     "text": [
      "\u001b[1m69/69\u001b[0m \u001b[32m━━━━━━━━━━━━━━━━━━━━\u001b[0m\u001b[37m\u001b[0m \u001b[1m118s\u001b[0m 2s/step - accuracy: 1.0000 - loss: 0.0465 - val_accuracy: 0.9917 - val_loss: 0.0693\n",
      "Epoch 3/15\n",
      "\u001b[1m69/69\u001b[0m \u001b[32m━━━━━━━━━━━━━━━━━━━━\u001b[0m\u001b[37m\u001b[0m \u001b[1m608s\u001b[0m 9s/step - accuracy: 0.9941 - loss: 0.0570 - val_accuracy: 0.9979 - val_loss: 0.0354\n",
      "Epoch 4/15\n",
      "\u001b[1m69/69\u001b[0m \u001b[32m━━━━━━━━━━━━━━━━━━━━\u001b[0m\u001b[37m\u001b[0m \u001b[1m119s\u001b[0m 2s/step - accuracy: 1.0000 - loss: 0.0330 - val_accuracy: 0.9937 - val_loss: 0.0350\n",
      "Epoch 5/15\n",
      "\u001b[1m69/69\u001b[0m \u001b[32m━━━━━━━━━━━━━━━━━━━━\u001b[0m\u001b[37m\u001b[0m \u001b[1m617s\u001b[0m 9s/step - accuracy: 0.9956 - loss: 0.0291 - val_accuracy: 0.9979 - val_loss: 0.0221\n",
      "Epoch 6/15\n",
      "\u001b[1m69/69\u001b[0m \u001b[32m━━━━━━━━━━━━━━━━━━━━\u001b[0m\u001b[37m\u001b[0m \u001b[1m115s\u001b[0m 2s/step - accuracy: 1.0000 - loss: 0.0159 - val_accuracy: 0.9979 - val_loss: 0.0221\n",
      "Epoch 7/15\n",
      "\u001b[1m69/69\u001b[0m \u001b[32m━━━━━━━━━━━━━━━━━━━━\u001b[0m\u001b[37m\u001b[0m \u001b[1m620s\u001b[0m 9s/step - accuracy: 0.9974 - loss: 0.0189 - val_accuracy: 0.9979 - val_loss: 0.0177\n",
      "Epoch 8/15\n",
      "\u001b[1m69/69\u001b[0m \u001b[32m━━━━━━━━━━━━━━━━━━━━\u001b[0m\u001b[37m\u001b[0m \u001b[1m145s\u001b[0m 2s/step - accuracy: 1.0000 - loss: 0.0072 - val_accuracy: 0.9979 - val_loss: 0.0182\n",
      "Epoch 9/15\n",
      "\u001b[1m69/69\u001b[0m \u001b[32m━━━━━━━━━━━━━━━━━━━━\u001b[0m\u001b[37m\u001b[0m \u001b[1m627s\u001b[0m 9s/step - accuracy: 0.9998 - loss: 0.0139 - val_accuracy: 0.9979 - val_loss: 0.0120\n",
      "Epoch 10/15\n",
      "\u001b[1m69/69\u001b[0m \u001b[32m━━━━━━━━━━━━━━━━━━━━\u001b[0m\u001b[37m\u001b[0m \u001b[1m118s\u001b[0m 2s/step - accuracy: 1.0000 - loss: 0.0074 - val_accuracy: 0.9979 - val_loss: 0.0120\n",
      "Epoch 11/15\n",
      "\u001b[1m69/69\u001b[0m \u001b[32m━━━━━━━━━━━━━━━━━━━━\u001b[0m\u001b[37m\u001b[0m \u001b[1m636s\u001b[0m 9s/step - accuracy: 0.9997 - loss: 0.0096 - val_accuracy: 0.9979 - val_loss: 0.0107\n",
      "Epoch 12/15\n",
      "\u001b[1m69/69\u001b[0m \u001b[32m━━━━━━━━━━━━━━━━━━━━\u001b[0m\u001b[37m\u001b[0m \u001b[1m121s\u001b[0m 2s/step - accuracy: 1.0000 - loss: 0.0096 - val_accuracy: 0.9979 - val_loss: 0.0109\n",
      "Epoch 13/15\n",
      "\u001b[1m69/69\u001b[0m \u001b[32m━━━━━━━━━━━━━━━━━━━━\u001b[0m\u001b[37m\u001b[0m \u001b[1m632s\u001b[0m 9s/step - accuracy: 1.0000 - loss: 0.0081 - val_accuracy: 0.9979 - val_loss: 0.0079\n",
      "Epoch 14/15\n",
      "\u001b[1m69/69\u001b[0m \u001b[32m━━━━━━━━━━━━━━━━━━━━\u001b[0m\u001b[37m\u001b[0m \u001b[1m114s\u001b[0m 2s/step - accuracy: 1.0000 - loss: 0.0108 - val_accuracy: 0.9979 - val_loss: 0.0080\n",
      "Epoch 15/15\n",
      "\u001b[1m69/69\u001b[0m \u001b[32m━━━━━━━━━━━━━━━━━━━━\u001b[0m\u001b[37m\u001b[0m \u001b[1m601s\u001b[0m 9s/step - accuracy: 1.0000 - loss: 0.0061 - val_accuracy: 0.9979 - val_loss: 0.0071\n",
      "\u001b[1m15/15\u001b[0m \u001b[32m━━━━━━━━━━━━━━━━━━━━\u001b[0m\u001b[37m\u001b[0m \u001b[1m107s\u001b[0m 7s/step - accuracy: 1.0000 - loss: 0.0050\n",
      "Test Loss: 0.006247567478567362\n",
      "Test Accuracy: 1.0\n"
     ]
    }
   ],
   "source": [
    "import tensorflow as tf\n",
    "from tensorflow.keras.applications import VGG19, DenseNet121\n",
    "from tensorflow.keras.layers import Dense, GlobalAveragePooling2D, Concatenate, Input\n",
    "from tensorflow.keras.models import Model\n",
    "from tensorflow.keras.optimizers import Adam\n",
    "from tensorflow.keras.preprocessing.image import ImageDataGenerator\n",
    "\n",
    "train_dir = 'C:/Users/HP/Desktop/train_test_split_ext/sent3/images_hibiscus_ext/train'\n",
    "test_dir = 'C:/Users/HP/Desktop/train_test_split_ext/sent3/images_hibiscus_ext/test'\n",
    "validation_dir = 'C:/Users/HP/Desktop/train_test_split_ext/sent3/images_hibiscus_ext/val'\n",
    "\n",
    "# Data augmentation for training data\n",
    "train_datagen = ImageDataGenerator(rescale=1./255)\n",
    "\n",
    "# Only rescaling for validation and test data\n",
    "val_test_datagen = ImageDataGenerator(rescale=1./255)\n",
    "\n",
    "# Load data from directories\n",
    "train_generator = train_datagen.flow_from_directory(\n",
    "    train_dir,\n",
    "    target_size=(224, 224),\n",
    "    batch_size=32,\n",
    "    class_mode='binary'\n",
    ")\n",
    "\n",
    "validation_generator = val_test_datagen.flow_from_directory(\n",
    "    validation_dir,\n",
    "    target_size=(224, 224),\n",
    "    batch_size=32,\n",
    "    class_mode='binary'\n",
    ")\n",
    "\n",
    "test_generator = val_test_datagen.flow_from_directory(\n",
    "    test_dir,\n",
    "    target_size=(224, 224),\n",
    "    batch_size=32,\n",
    "    class_mode='binary',\n",
    "    shuffle=False\n",
    ")\n",
    "\n",
    "# Load base models without the top layers\n",
    "input_tensor = Input(shape=(224, 224, 3))\n",
    "vgg19_base = VGG19(weights='imagenet', include_top=False, input_tensor=input_tensor)\n",
    "densenet_base = DenseNet121(weights='imagenet', include_top=False, input_tensor=input_tensor)\n",
    "\n",
    "# Freeze base model layers\n",
    "for layer in vgg19_base.layers:\n",
    "    layer.trainable = False\n",
    "for layer in densenet_base.layers:\n",
    "    layer.trainable = False\n",
    "\n",
    "# Extract features\n",
    "vgg19_output = GlobalAveragePooling2D()(vgg19_base.output)\n",
    "densenet_output = GlobalAveragePooling2D()(densenet_base.output)\n",
    "\n",
    "# Concatenate features\n",
    "merged = Concatenate()([vgg19_output, densenet_output])\n",
    "merged = Dense(1024, activation='relu')(merged)\n",
    "predictions = Dense(1, activation='sigmoid')(merged)\n",
    "\n",
    "# Define final model\n",
    "model = Model(inputs=input_tensor, outputs=predictions)\n",
    "model.compile(\n",
    "    optimizer=Adam(learning_rate=0.0001),\n",
    "    loss='binary_crossentropy',\n",
    "    metrics=['accuracy']\n",
    ")\n",
    "\n",
    "history = model.fit(\n",
    "    train_generator,\n",
    "    steps_per_epoch=train_generator.samples // train_generator.batch_size,\n",
    "    validation_data=validation_generator,\n",
    "    validation_steps=validation_generator.samples // validation_generator.batch_size,\n",
    "    epochs=15\n",
    ")\n",
    "\n",
    "test_loss, test_accuracy = model.evaluate(test_generator)\n",
    "print(f'Test Loss: {test_loss}')\n",
    "print(f'Test Accuracy: {test_accuracy}')\n"
   ]
  },
  {
   "cell_type": "code",
   "execution_count": 3,
   "id": "26281f7d",
   "metadata": {},
   "outputs": [
    {
     "name": "stdout",
     "output_type": "stream",
     "text": [
      "\u001b[1m16/16\u001b[0m \u001b[32m━━━━━━━━━━━━━━━━━━━━\u001b[0m\u001b[37m\u001b[0m \u001b[1m110s\u001b[0m 7s/step - accuracy: 0.9937 - loss: 0.0126\n",
      "Test Loss: 0.006247567478567362\n",
      "Test Accuracy: 1.0\n",
      "Validation Loss: 0.007028054445981979\n",
      "Validation Accuracy: 0.9979252815246582\n"
     ]
    }
   ],
   "source": [
    "val_loss, val_accuracy = model.evaluate(validation_generator)\n",
    "print(f'Test Loss: {test_loss}')\n",
    "print(f'Test Accuracy: {test_accuracy}')\n",
    "print(f'Validation Loss: {val_loss}')\n",
    "print(f'Validation Accuracy: {val_accuracy}')\n"
   ]
  },
  {
   "cell_type": "code",
   "execution_count": null,
   "id": "d779d0a4",
   "metadata": {},
   "outputs": [],
   "source": []
  }
 ],
 "metadata": {
  "kernelspec": {
   "display_name": "Python 3 (ipykernel)",
   "language": "python",
   "name": "python3"
  },
  "language_info": {
   "codemirror_mode": {
    "name": "ipython",
    "version": 3
   },
   "file_extension": ".py",
   "mimetype": "text/x-python",
   "name": "python",
   "nbconvert_exporter": "python",
   "pygments_lexer": "ipython3",
   "version": "3.11.5"
  }
 },
 "nbformat": 4,
 "nbformat_minor": 5
}
