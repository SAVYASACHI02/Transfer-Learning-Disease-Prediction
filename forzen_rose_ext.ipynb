{
 "cells": [
  {
   "cell_type": "code",
   "execution_count": 3,
   "id": "176fb9d3",
   "metadata": {},
   "outputs": [
    {
     "name": "stdout",
     "output_type": "stream",
     "text": [
      "Found 2238 images belonging to 2 classes.\n",
      "Found 482 images belonging to 2 classes.\n",
      "Found 480 images belonging to 2 classes.\n",
      "No saved model found. Starting fresh.\n",
      "Starting Phase 1 (continuing from epoch 1)\n",
      "Epoch 1/10\n",
      "\u001b[1m69/69\u001b[0m \u001b[32m━━━━━━━━━━━━━━━━━━━━\u001b[0m\u001b[37m\u001b[0m \u001b[1m0s\u001b[0m 10s/step - accuracy: 0.7369 - loss: 0.5188 \n",
      "Epoch 1: saving model to ./checkpoints_rose\\model_checkpoint_rose_epoch_01.h5\n"
     ]
    },
    {
     "name": "stderr",
     "output_type": "stream",
     "text": [
      "WARNING:absl:You are saving your model as an HDF5 file via `model.save()` or `keras.saving.save_model(model)`. This file format is considered legacy. We recommend using instead the native Keras format, e.g. `model.save('my_model.keras')` or `keras.saving.save_model(model, 'my_model.keras')`. \n"
     ]
    },
    {
     "name": "stdout",
     "output_type": "stream",
     "text": [
      "\u001b[1m69/69\u001b[0m \u001b[32m━━━━━━━━━━━━━━━━━━━━\u001b[0m\u001b[37m\u001b[0m \u001b[1m919s\u001b[0m 13s/step - accuracy: 0.7385 - loss: 0.5168 - val_accuracy: 0.9438 - val_loss: 0.2213\n",
      "Epoch 2/10\n",
      "\u001b[1m 1/69\u001b[0m \u001b[37m━━━━━━━━━━━━━━━━━━━━\u001b[0m \u001b[1m11:40\u001b[0m 10s/step - accuracy: 1.0000 - loss: 0.1486"
     ]
    },
    {
     "name": "stderr",
     "output_type": "stream",
     "text": [
      "C:\\Users\\HP\\Documents\\anaconda2\\Lib\\site-packages\\keras\\src\\trainers\\epoch_iterator.py:107: UserWarning: Your input ran out of data; interrupting training. Make sure that your dataset or generator can generate at least `steps_per_epoch * epochs` batches. You may need to use the `.repeat()` function when building your dataset.\n",
      "  self._interrupted_warning()\n"
     ]
    },
    {
     "name": "stdout",
     "output_type": "stream",
     "text": [
      "\n",
      "Epoch 2: saving model to ./checkpoints_rose\\model_checkpoint_rose_epoch_02.h5\n"
     ]
    },
    {
     "name": "stderr",
     "output_type": "stream",
     "text": [
      "WARNING:absl:You are saving your model as an HDF5 file via `model.save()` or `keras.saving.save_model(model)`. This file format is considered legacy. We recommend using instead the native Keras format, e.g. `model.save('my_model.keras')` or `keras.saving.save_model(model, 'my_model.keras')`. \n"
     ]
    },
    {
     "name": "stdout",
     "output_type": "stream",
     "text": [
      "\u001b[1m69/69\u001b[0m \u001b[32m━━━━━━━━━━━━━━━━━━━━\u001b[0m\u001b[37m\u001b[0m \u001b[1m168s\u001b[0m 2s/step - accuracy: 1.0000 - loss: 0.1486 - val_accuracy: 0.9417 - val_loss: 0.2187\n",
      "Epoch 3/10\n",
      "\u001b[1m69/69\u001b[0m \u001b[32m━━━━━━━━━━━━━━━━━━━━\u001b[0m\u001b[37m\u001b[0m \u001b[1m0s\u001b[0m 10s/step - accuracy: 0.9506 - loss: 0.1947 \n",
      "Epoch 3: saving model to ./checkpoints_rose\\model_checkpoint_rose_epoch_03.h5\n"
     ]
    },
    {
     "name": "stderr",
     "output_type": "stream",
     "text": [
      "WARNING:absl:You are saving your model as an HDF5 file via `model.save()` or `keras.saving.save_model(model)`. This file format is considered legacy. We recommend using instead the native Keras format, e.g. `model.save('my_model.keras')` or `keras.saving.save_model(model, 'my_model.keras')`. \n"
     ]
    },
    {
     "name": "stdout",
     "output_type": "stream",
     "text": [
      "\u001b[1m69/69\u001b[0m \u001b[32m━━━━━━━━━━━━━━━━━━━━\u001b[0m\u001b[37m\u001b[0m \u001b[1m914s\u001b[0m 13s/step - accuracy: 0.9507 - loss: 0.1944 - val_accuracy: 0.9521 - val_loss: 0.1644\n",
      "Epoch 4/10\n",
      "\u001b[1m 1/69\u001b[0m \u001b[37m━━━━━━━━━━━━━━━━━━━━\u001b[0m \u001b[1m11:37\u001b[0m 10s/step - accuracy: 1.0000 - loss: 0.0924\n",
      "Epoch 4: saving model to ./checkpoints_rose\\model_checkpoint_rose_epoch_04.h5\n"
     ]
    },
    {
     "name": "stderr",
     "output_type": "stream",
     "text": [
      "WARNING:absl:You are saving your model as an HDF5 file via `model.save()` or `keras.saving.save_model(model)`. This file format is considered legacy. We recommend using instead the native Keras format, e.g. `model.save('my_model.keras')` or `keras.saving.save_model(model, 'my_model.keras')`. \n"
     ]
    },
    {
     "name": "stdout",
     "output_type": "stream",
     "text": [
      "\u001b[1m69/69\u001b[0m \u001b[32m━━━━━━━━━━━━━━━━━━━━\u001b[0m\u001b[37m\u001b[0m \u001b[1m166s\u001b[0m 2s/step - accuracy: 1.0000 - loss: 0.0924 - val_accuracy: 0.9542 - val_loss: 0.1645\n",
      "Epoch 5/10\n",
      "\u001b[1m69/69\u001b[0m \u001b[32m━━━━━━━━━━━━━━━━━━━━\u001b[0m\u001b[37m\u001b[0m \u001b[1m0s\u001b[0m 10s/step - accuracy: 0.9644 - loss: 0.1342 \n",
      "Epoch 5: saving model to ./checkpoints_rose\\model_checkpoint_rose_epoch_05.h5\n"
     ]
    },
    {
     "name": "stderr",
     "output_type": "stream",
     "text": [
      "WARNING:absl:You are saving your model as an HDF5 file via `model.save()` or `keras.saving.save_model(model)`. This file format is considered legacy. We recommend using instead the native Keras format, e.g. `model.save('my_model.keras')` or `keras.saving.save_model(model, 'my_model.keras')`. \n"
     ]
    },
    {
     "name": "stdout",
     "output_type": "stream",
     "text": [
      "\u001b[1m69/69\u001b[0m \u001b[32m━━━━━━━━━━━━━━━━━━━━\u001b[0m\u001b[37m\u001b[0m \u001b[1m921s\u001b[0m 13s/step - accuracy: 0.9644 - loss: 0.1341 - val_accuracy: 0.9500 - val_loss: 0.1283\n",
      "Epoch 6/10\n",
      "\u001b[1m 1/69\u001b[0m \u001b[37m━━━━━━━━━━━━━━━━━━━━\u001b[0m \u001b[1m11:42\u001b[0m 10s/step - accuracy: 0.9688 - loss: 0.1474\n",
      "Epoch 6: saving model to ./checkpoints_rose\\model_checkpoint_rose_epoch_06.h5\n"
     ]
    },
    {
     "name": "stderr",
     "output_type": "stream",
     "text": [
      "WARNING:absl:You are saving your model as an HDF5 file via `model.save()` or `keras.saving.save_model(model)`. This file format is considered legacy. We recommend using instead the native Keras format, e.g. `model.save('my_model.keras')` or `keras.saving.save_model(model, 'my_model.keras')`. \n"
     ]
    },
    {
     "name": "stdout",
     "output_type": "stream",
     "text": [
      "\u001b[1m69/69\u001b[0m \u001b[32m━━━━━━━━━━━━━━━━━━━━\u001b[0m\u001b[37m\u001b[0m \u001b[1m167s\u001b[0m 2s/step - accuracy: 0.9688 - loss: 0.1474 - val_accuracy: 0.9521 - val_loss: 0.1262\n",
      "Epoch 7/10\n",
      "\u001b[1m69/69\u001b[0m \u001b[32m━━━━━━━━━━━━━━━━━━━━\u001b[0m\u001b[37m\u001b[0m \u001b[1m0s\u001b[0m 10s/step - accuracy: 0.9805 - loss: 0.0991 \n",
      "Epoch 7: saving model to ./checkpoints_rose\\model_checkpoint_rose_epoch_07.h5\n"
     ]
    },
    {
     "name": "stderr",
     "output_type": "stream",
     "text": [
      "WARNING:absl:You are saving your model as an HDF5 file via `model.save()` or `keras.saving.save_model(model)`. This file format is considered legacy. We recommend using instead the native Keras format, e.g. `model.save('my_model.keras')` or `keras.saving.save_model(model, 'my_model.keras')`. \n"
     ]
    },
    {
     "name": "stdout",
     "output_type": "stream",
     "text": [
      "\u001b[1m69/69\u001b[0m \u001b[32m━━━━━━━━━━━━━━━━━━━━\u001b[0m\u001b[37m\u001b[0m \u001b[1m866s\u001b[0m 13s/step - accuracy: 0.9805 - loss: 0.0990 - val_accuracy: 0.9625 - val_loss: 0.1044\n",
      "Epoch 8/10\n",
      "\u001b[1m 1/69\u001b[0m \u001b[37m━━━━━━━━━━━━━━━━━━━━\u001b[0m \u001b[1m11:51\u001b[0m 10s/step - accuracy: 0.9375 - loss: 0.1313\n",
      "Epoch 8: saving model to ./checkpoints_rose\\model_checkpoint_rose_epoch_08.h5\n"
     ]
    },
    {
     "name": "stderr",
     "output_type": "stream",
     "text": [
      "WARNING:absl:You are saving your model as an HDF5 file via `model.save()` or `keras.saving.save_model(model)`. This file format is considered legacy. We recommend using instead the native Keras format, e.g. `model.save('my_model.keras')` or `keras.saving.save_model(model, 'my_model.keras')`. \n"
     ]
    },
    {
     "name": "stdout",
     "output_type": "stream",
     "text": [
      "\u001b[1m69/69\u001b[0m \u001b[32m━━━━━━━━━━━━━━━━━━━━\u001b[0m\u001b[37m\u001b[0m \u001b[1m169s\u001b[0m 2s/step - accuracy: 0.9375 - loss: 0.1313 - val_accuracy: 0.9625 - val_loss: 0.1049\n",
      "Epoch 9/10\n",
      "\u001b[1m69/69\u001b[0m \u001b[32m━━━━━━━━━━━━━━━━━━━━\u001b[0m\u001b[37m\u001b[0m \u001b[1m0s\u001b[0m 11s/step - accuracy: 0.9846 - loss: 0.0790 \n",
      "Epoch 9: saving model to ./checkpoints_rose\\model_checkpoint_rose_epoch_09.h5\n"
     ]
    },
    {
     "name": "stderr",
     "output_type": "stream",
     "text": [
      "WARNING:absl:You are saving your model as an HDF5 file via `model.save()` or `keras.saving.save_model(model)`. This file format is considered legacy. We recommend using instead the native Keras format, e.g. `model.save('my_model.keras')` or `keras.saving.save_model(model, 'my_model.keras')`. \n"
     ]
    },
    {
     "name": "stdout",
     "output_type": "stream",
     "text": [
      "\u001b[1m69/69\u001b[0m \u001b[32m━━━━━━━━━━━━━━━━━━━━\u001b[0m\u001b[37m\u001b[0m \u001b[1m888s\u001b[0m 13s/step - accuracy: 0.9846 - loss: 0.0790 - val_accuracy: 0.9708 - val_loss: 0.0960\n",
      "Epoch 10/10\n",
      "\u001b[1m 1/69\u001b[0m \u001b[37m━━━━━━━━━━━━━━━━━━━━\u001b[0m \u001b[1m11:53\u001b[0m 10s/step - accuracy: 1.0000 - loss: 0.0361\n",
      "Epoch 10: saving model to ./checkpoints_rose\\model_checkpoint_rose_epoch_10.h5\n"
     ]
    },
    {
     "name": "stderr",
     "output_type": "stream",
     "text": [
      "WARNING:absl:You are saving your model as an HDF5 file via `model.save()` or `keras.saving.save_model(model)`. This file format is considered legacy. We recommend using instead the native Keras format, e.g. `model.save('my_model.keras')` or `keras.saving.save_model(model, 'my_model.keras')`. \n"
     ]
    },
    {
     "name": "stdout",
     "output_type": "stream",
     "text": [
      "\u001b[1m69/69\u001b[0m \u001b[32m━━━━━━━━━━━━━━━━━━━━\u001b[0m\u001b[37m\u001b[0m \u001b[1m169s\u001b[0m 2s/step - accuracy: 1.0000 - loss: 0.0361 - val_accuracy: 0.9708 - val_loss: 0.0969\n",
      "Starting Phase 2 (continuing from epoch 11)\n",
      "Epoch 11/15\n",
      "\u001b[1m69/69\u001b[0m \u001b[32m━━━━━━━━━━━━━━━━━━━━\u001b[0m\u001b[37m\u001b[0m \u001b[1m0s\u001b[0m 12s/step - accuracy: 0.9547 - loss: 0.1065 \n",
      "Epoch 11: saving model to ./checkpoints_rose\\model_checkpoint_rose_epoch_11.h5\n"
     ]
    },
    {
     "name": "stderr",
     "output_type": "stream",
     "text": [
      "WARNING:absl:You are saving your model as an HDF5 file via `model.save()` or `keras.saving.save_model(model)`. This file format is considered legacy. We recommend using instead the native Keras format, e.g. `model.save('my_model.keras')` or `keras.saving.save_model(model, 'my_model.keras')`. \n"
     ]
    },
    {
     "name": "stdout",
     "output_type": "stream",
     "text": [
      "\u001b[1m69/69\u001b[0m \u001b[32m━━━━━━━━━━━━━━━━━━━━\u001b[0m\u001b[37m\u001b[0m \u001b[1m1061s\u001b[0m 15s/step - accuracy: 0.9549 - loss: 0.1062 - val_accuracy: 0.9500 - val_loss: 0.1203\n",
      "Epoch 12/15\n",
      "\u001b[1m 1/69\u001b[0m \u001b[37m━━━━━━━━━━━━━━━━━━━━\u001b[0m \u001b[1m13:43\u001b[0m 12s/step - accuracy: 1.0000 - loss: 0.0506\n",
      "Epoch 12: saving model to ./checkpoints_rose\\model_checkpoint_rose_epoch_12.h5\n"
     ]
    },
    {
     "name": "stderr",
     "output_type": "stream",
     "text": [
      "WARNING:absl:You are saving your model as an HDF5 file via `model.save()` or `keras.saving.save_model(model)`. This file format is considered legacy. We recommend using instead the native Keras format, e.g. `model.save('my_model.keras')` or `keras.saving.save_model(model, 'my_model.keras')`. \n"
     ]
    },
    {
     "name": "stdout",
     "output_type": "stream",
     "text": [
      "\u001b[1m69/69\u001b[0m \u001b[32m━━━━━━━━━━━━━━━━━━━━\u001b[0m\u001b[37m\u001b[0m \u001b[1m173s\u001b[0m 2s/step - accuracy: 1.0000 - loss: 0.0506 - val_accuracy: 0.9500 - val_loss: 0.1190\n",
      "Epoch 13/15\n",
      "\u001b[1m69/69\u001b[0m \u001b[32m━━━━━━━━━━━━━━━━━━━━\u001b[0m\u001b[37m\u001b[0m \u001b[1m0s\u001b[0m 12s/step - accuracy: 0.9693 - loss: 0.0895 \n",
      "Epoch 13: saving model to ./checkpoints_rose\\model_checkpoint_rose_epoch_13.h5\n"
     ]
    },
    {
     "name": "stderr",
     "output_type": "stream",
     "text": [
      "WARNING:absl:You are saving your model as an HDF5 file via `model.save()` or `keras.saving.save_model(model)`. This file format is considered legacy. We recommend using instead the native Keras format, e.g. `model.save('my_model.keras')` or `keras.saving.save_model(model, 'my_model.keras')`. \n"
     ]
    },
    {
     "name": "stdout",
     "output_type": "stream",
     "text": [
      "\u001b[1m69/69\u001b[0m \u001b[32m━━━━━━━━━━━━━━━━━━━━\u001b[0m\u001b[37m\u001b[0m \u001b[1m995s\u001b[0m 14s/step - accuracy: 0.9694 - loss: 0.0894 - val_accuracy: 0.9521 - val_loss: 0.1036\n",
      "Epoch 14/15\n",
      "\u001b[1m 1/69\u001b[0m \u001b[37m━━━━━━━━━━━━━━━━━━━━\u001b[0m \u001b[1m13:37\u001b[0m 12s/step - accuracy: 1.0000 - loss: 0.0469\n",
      "Epoch 14: saving model to ./checkpoints_rose\\model_checkpoint_rose_epoch_14.h5\n"
     ]
    },
    {
     "name": "stderr",
     "output_type": "stream",
     "text": [
      "WARNING:absl:You are saving your model as an HDF5 file via `model.save()` or `keras.saving.save_model(model)`. This file format is considered legacy. We recommend using instead the native Keras format, e.g. `model.save('my_model.keras')` or `keras.saving.save_model(model, 'my_model.keras')`. \n"
     ]
    },
    {
     "name": "stdout",
     "output_type": "stream",
     "text": [
      "\u001b[1m69/69\u001b[0m \u001b[32m━━━━━━━━━━━━━━━━━━━━\u001b[0m\u001b[37m\u001b[0m \u001b[1m178s\u001b[0m 2s/step - accuracy: 1.0000 - loss: 0.0469 - val_accuracy: 0.9542 - val_loss: 0.1016\n",
      "Epoch 15/15\n",
      "\u001b[1m69/69\u001b[0m \u001b[32m━━━━━━━━━━━━━━━━━━━━\u001b[0m\u001b[37m\u001b[0m \u001b[1m0s\u001b[0m 12s/step - accuracy: 0.9743 - loss: 0.0679 \n",
      "Epoch 15: saving model to ./checkpoints_rose\\model_checkpoint_rose_epoch_15.h5\n"
     ]
    },
    {
     "name": "stderr",
     "output_type": "stream",
     "text": [
      "WARNING:absl:You are saving your model as an HDF5 file via `model.save()` or `keras.saving.save_model(model)`. This file format is considered legacy. We recommend using instead the native Keras format, e.g. `model.save('my_model.keras')` or `keras.saving.save_model(model, 'my_model.keras')`. \n"
     ]
    },
    {
     "name": "stdout",
     "output_type": "stream",
     "text": [
      "\u001b[1m69/69\u001b[0m \u001b[32m━━━━━━━━━━━━━━━━━━━━\u001b[0m\u001b[37m\u001b[0m \u001b[1m986s\u001b[0m 14s/step - accuracy: 0.9743 - loss: 0.0679 - val_accuracy: 0.9625 - val_loss: 0.0740\n",
      "Starting Phase 3 (continuing from epoch 16)\n",
      "Epoch 16/20\n",
      "\u001b[1m69/69\u001b[0m \u001b[32m━━━━━━━━━━━━━━━━━━━━\u001b[0m\u001b[37m\u001b[0m \u001b[1m0s\u001b[0m 62s/step - accuracy: 0.9360 - loss: 0.1657  \n",
      "Epoch 16: saving model to ./checkpoints_rose\\model_checkpoint_rose_epoch_16.h5\n"
     ]
    },
    {
     "name": "stderr",
     "output_type": "stream",
     "text": [
      "WARNING:absl:You are saving your model as an HDF5 file via `model.save()` or `keras.saving.save_model(model)`. This file format is considered legacy. We recommend using instead the native Keras format, e.g. `model.save('my_model.keras')` or `keras.saving.save_model(model, 'my_model.keras')`. \n"
     ]
    },
    {
     "name": "stdout",
     "output_type": "stream",
     "text": [
      "\u001b[1m69/69\u001b[0m \u001b[32m━━━━━━━━━━━━━━━━━━━━\u001b[0m\u001b[37m\u001b[0m \u001b[1m4834s\u001b[0m 68s/step - accuracy: 0.9361 - loss: 0.1654 - val_accuracy: 0.9812 - val_loss: 0.0592\n",
      "Epoch 17/20\n",
      "\u001b[1m 1/69\u001b[0m \u001b[37m━━━━━━━━━━━━━━━━━━━━\u001b[0m \u001b[1m1:32:59\u001b[0m 82s/step - accuracy: 0.9688 - loss: 0.0931\n",
      "Epoch 17: saving model to ./checkpoints_rose\\model_checkpoint_rose_epoch_17.h5\n"
     ]
    },
    {
     "name": "stderr",
     "output_type": "stream",
     "text": [
      "WARNING:absl:You are saving your model as an HDF5 file via `model.save()` or `keras.saving.save_model(model)`. This file format is considered legacy. We recommend using instead the native Keras format, e.g. `model.save('my_model.keras')` or `keras.saving.save_model(model, 'my_model.keras')`. \n"
     ]
    },
    {
     "name": "stdout",
     "output_type": "stream",
     "text": [
      "\u001b[1m69/69\u001b[0m \u001b[32m━━━━━━━━━━━━━━━━━━━━\u001b[0m\u001b[37m\u001b[0m \u001b[1m422s\u001b[0m 5s/step - accuracy: 0.9688 - loss: 0.0931 - val_accuracy: 0.9812 - val_loss: 0.0595\n",
      "Epoch 18/20\n",
      "\u001b[1m69/69\u001b[0m \u001b[32m━━━━━━━━━━━━━━━━━━━━\u001b[0m\u001b[37m\u001b[0m \u001b[1m0s\u001b[0m 81s/step - accuracy: 0.9558 - loss: 0.1115  \n",
      "Epoch 18: saving model to ./checkpoints_rose\\model_checkpoint_rose_epoch_18.h5\n"
     ]
    },
    {
     "name": "stderr",
     "output_type": "stream",
     "text": [
      "WARNING:absl:You are saving your model as an HDF5 file via `model.save()` or `keras.saving.save_model(model)`. This file format is considered legacy. We recommend using instead the native Keras format, e.g. `model.save('my_model.keras')` or `keras.saving.save_model(model, 'my_model.keras')`. \n"
     ]
    },
    {
     "name": "stdout",
     "output_type": "stream",
     "text": [
      "\u001b[1m69/69\u001b[0m \u001b[32m━━━━━━━━━━━━━━━━━━━━\u001b[0m\u001b[37m\u001b[0m \u001b[1m5952s\u001b[0m 86s/step - accuracy: 0.9558 - loss: 0.1114 - val_accuracy: 0.9417 - val_loss: 0.1296\n",
      "Epoch 19/20\n",
      "\u001b[1m 1/69\u001b[0m \u001b[37m━━━━━━━━━━━━━━━━━━━━\u001b[0m \u001b[1m1:33:48\u001b[0m 83s/step - accuracy: 1.0000 - loss: 0.0287\n",
      "Epoch 19: saving model to ./checkpoints_rose\\model_checkpoint_rose_epoch_19.h5\n"
     ]
    },
    {
     "name": "stderr",
     "output_type": "stream",
     "text": [
      "WARNING:absl:You are saving your model as an HDF5 file via `model.save()` or `keras.saving.save_model(model)`. This file format is considered legacy. We recommend using instead the native Keras format, e.g. `model.save('my_model.keras')` or `keras.saving.save_model(model, 'my_model.keras')`. \n"
     ]
    },
    {
     "name": "stdout",
     "output_type": "stream",
     "text": [
      "\u001b[1m69/69\u001b[0m \u001b[32m━━━━━━━━━━━━━━━━━━━━\u001b[0m\u001b[37m\u001b[0m \u001b[1m425s\u001b[0m 5s/step - accuracy: 1.0000 - loss: 0.0287 - val_accuracy: 0.9375 - val_loss: 0.1408\n",
      "Epoch 20/20\n",
      "\u001b[1m69/69\u001b[0m \u001b[32m━━━━━━━━━━━━━━━━━━━━\u001b[0m\u001b[37m\u001b[0m \u001b[1m0s\u001b[0m 79s/step - accuracy: 0.9736 - loss: 0.0896  \n",
      "Epoch 20: saving model to ./checkpoints_rose\\model_checkpoint_rose_epoch_20.h5\n"
     ]
    },
    {
     "name": "stderr",
     "output_type": "stream",
     "text": [
      "WARNING:absl:You are saving your model as an HDF5 file via `model.save()` or `keras.saving.save_model(model)`. This file format is considered legacy. We recommend using instead the native Keras format, e.g. `model.save('my_model.keras')` or `keras.saving.save_model(model, 'my_model.keras')`. \n"
     ]
    },
    {
     "name": "stdout",
     "output_type": "stream",
     "text": [
      "\u001b[1m69/69\u001b[0m \u001b[32m━━━━━━━━━━━━━━━━━━━━\u001b[0m\u001b[37m\u001b[0m \u001b[1m5785s\u001b[0m 84s/step - accuracy: 0.9736 - loss: 0.0896 - val_accuracy: 0.9646 - val_loss: 0.0877\n",
      "\u001b[1m15/15\u001b[0m \u001b[32m━━━━━━━━━━━━━━━━━━━━\u001b[0m\u001b[37m\u001b[0m \u001b[1m327s\u001b[0m 22s/step - accuracy: 0.9504 - loss: 0.1186\n",
      "\u001b[1m16/16\u001b[0m \u001b[32m━━━━━━━━━━━━━━━━━━━━\u001b[0m\u001b[37m\u001b[0m \u001b[1m328s\u001b[0m 20s/step - accuracy: 0.9759 - loss: 0.0769\n",
      "Test Loss (Rose): 0.10316033661365509\n",
      "Test Accuracy (Rose): 0.9583333134651184\n",
      "Validation Loss (Rose): 0.087323859333992\n",
      "Validation Accuracy (Rose): 0.9647302627563477\n"
     ]
    }
   ],
   "source": [
    "\n",
    "\n",
    "import tensorflow as tf\n",
    "from tensorflow.keras.applications import VGG19, DenseNet121\n",
    "from tensorflow.keras.layers import Dense, GlobalAveragePooling2D, Concatenate, Input\n",
    "from tensorflow.keras.models import Model, load_model\n",
    "from tensorflow.keras.optimizers import Adam\n",
    "from tensorflow.keras.preprocessing.image import ImageDataGenerator\n",
    "from tensorflow.keras.callbacks import ModelCheckpoint\n",
    "import os\n",
    "import re\n",
    "\n",
    "# Updated dataset paths for rose\n",
    "train_dir = 'C:/Users/HP/Desktop/train_test_split_ext/sent3/images_rose_ext/train'\n",
    "test_dir = 'C:/Users/HP/Desktop/train_test_split_ext/sent3/images_rose_ext/test'\n",
    "validation_dir = 'C:/Users/HP/Desktop/train_test_split_ext/sent3/images_rose_ext/val'\n",
    "\n",
    "# Data augmentation for training data\n",
    "train_datagen = ImageDataGenerator(rescale=1./255)\n",
    "\n",
    "# Only rescaling for validation and test data\n",
    "val_test_datagen = ImageDataGenerator(rescale=1./255)\n",
    "\n",
    "# Load data from directories\n",
    "train_generator = train_datagen.flow_from_directory(\n",
    "    train_dir,\n",
    "    target_size=(224, 224),\n",
    "    batch_size=32,\n",
    "    class_mode='binary'\n",
    ")\n",
    "\n",
    "validation_generator = val_test_datagen.flow_from_directory(\n",
    "    validation_dir,\n",
    "    target_size=(224, 224),\n",
    "    batch_size=32,\n",
    "    class_mode='binary'\n",
    ")\n",
    "\n",
    "test_generator = val_test_datagen.flow_from_directory(\n",
    "    test_dir,\n",
    "    target_size=(224, 224),\n",
    "    batch_size=32,\n",
    "    class_mode='binary',\n",
    "    shuffle=False\n",
    ")\n",
    "\n",
    "# Define checkpoint path for rose\n",
    "checkpoint_dir = \"./checkpoints_rose\"\n",
    "os.makedirs(checkpoint_dir, exist_ok=True)\n",
    "checkpoint_path = os.path.join(checkpoint_dir, \"model_checkpoint_rose_epoch_{epoch:02d}.h5\")\n",
    "\n",
    "# Load base models without the top layers\n",
    "input_tensor = Input(shape=(224, 224, 3))\n",
    "vgg19_base = VGG19(weights='imagenet', include_top=False, input_tensor=input_tensor)\n",
    "densenet_base = DenseNet121(weights='imagenet', include_top=False, input_tensor=input_tensor)\n",
    "\n",
    "# Freeze all base model layers initially\n",
    "for layer in vgg19_base.layers:\n",
    "    layer.trainable = False\n",
    "for layer in densenet_base.layers:\n",
    "    layer.trainable = False\n",
    "\n",
    "# Extract features\n",
    "vgg19_output = GlobalAveragePooling2D()(vgg19_base.output)\n",
    "densenet_output = GlobalAveragePooling2D()(densenet_base.output)\n",
    "\n",
    "# Concatenate features\n",
    "merged = Concatenate()([vgg19_output, densenet_output])\n",
    "merged = Dense(1024, activation='relu')(merged)\n",
    "predictions = Dense(1, activation='sigmoid')(merged)\n",
    "\n",
    "# Define final model\n",
    "model = Model(inputs=input_tensor, outputs=predictions)\n",
    "\n",
    "# Find latest checkpoint for rose\n",
    "def get_latest_checkpoint():\n",
    "    checkpoint_files = [f for f in os.listdir(checkpoint_dir) if f.startswith(\"model_checkpoint_rose_epoch\")]\n",
    "    if not checkpoint_files:\n",
    "        return None, 0\n",
    "\n",
    "    # Extract epoch numbers\n",
    "    epochs_trained = [int(re.search(r'epoch_(\\d+)', f).group(1)) for f in checkpoint_files]\n",
    "    latest_epoch = max(epochs_trained)\n",
    "    latest_checkpoint = os.path.join(checkpoint_dir, f\"model_checkpoint_rose_epoch_{latest_epoch:02d}.h5\")\n",
    "    return latest_checkpoint, latest_epoch\n",
    "\n",
    "latest_checkpoint, last_trained_epoch = get_latest_checkpoint()\n",
    "\n",
    "# Load the latest model checkpoint if available\n",
    "if latest_checkpoint and os.path.exists(latest_checkpoint):\n",
    "    print(f\"Resuming training from checkpoint: {latest_checkpoint}\")\n",
    "    model = load_model(latest_checkpoint)\n",
    "else:\n",
    "    print(\"No saved model found. Starting fresh.\")\n",
    "\n",
    "# Compile model\n",
    "model.compile(\n",
    "    optimizer=Adam(learning_rate=0.0001),\n",
    "    loss='binary_crossentropy',\n",
    "    metrics=['accuracy']\n",
    ")\n",
    "\n",
    "# ModelCheckpoint callback for rose\n",
    "checkpoint_callback = ModelCheckpoint(\n",
    "    filepath=checkpoint_path,\n",
    "    save_best_only=False,\n",
    "    save_weights_only=False,\n",
    "    verbose=1\n",
    ")\n",
    "\n",
    "# Training Phases\n",
    "epochs_phase_1 = 10\n",
    "epochs_phase_2 = 5\n",
    "epochs_phase_3 = 5\n",
    "\n",
    "# Determine phase and continue training\n",
    "if last_trained_epoch < epochs_phase_1:\n",
    "    print(f\"Starting Phase 1 (continuing from epoch {last_trained_epoch + 1})\")\n",
    "    history1 = model.fit(\n",
    "        train_generator,\n",
    "        steps_per_epoch=train_generator.samples // train_generator.batch_size,\n",
    "        validation_data=validation_generator,\n",
    "        validation_steps=validation_generator.samples // validation_generator.batch_size,\n",
    "        initial_epoch=last_trained_epoch,\n",
    "        epochs=epochs_phase_1,\n",
    "        callbacks=[checkpoint_callback]\n",
    "    )\n",
    "    last_trained_epoch = epochs_phase_1\n",
    "\n",
    "# Unfreeze top 5 layers and continue training\n",
    "if last_trained_epoch < epochs_phase_1 + epochs_phase_2:\n",
    "    for layer in vgg19_base.layers[-5:]:\n",
    "        layer.trainable = True\n",
    "    for layer in densenet_base.layers[-5:]:\n",
    "        layer.trainable = True\n",
    "\n",
    "    model.compile(\n",
    "        optimizer=Adam(learning_rate=1e-5),\n",
    "        loss='binary_crossentropy',\n",
    "        metrics=['accuracy']\n",
    "    )\n",
    "\n",
    "    print(f\"Starting Phase 2 (continuing from epoch {last_trained_epoch + 1})\")\n",
    "    history2 = model.fit(\n",
    "        train_generator,\n",
    "        steps_per_epoch=train_generator.samples // train_generator.batch_size,\n",
    "        validation_data=validation_generator,\n",
    "        validation_steps=validation_generator.samples // validation_generator.batch_size,\n",
    "        initial_epoch=last_trained_epoch,\n",
    "        epochs=epochs_phase_1 + epochs_phase_2,\n",
    "        callbacks=[checkpoint_callback]\n",
    "    )\n",
    "    last_trained_epoch = epochs_phase_1 + epochs_phase_2\n",
    "\n",
    "# Unfreeze all layers and fine-tune\n",
    "if last_trained_epoch < epochs_phase_1 + epochs_phase_2 + epochs_phase_3:\n",
    "    for layer in vgg19_base.layers:\n",
    "        layer.trainable = True\n",
    "    for layer in densenet_base.layers:\n",
    "        layer.trainable = True\n",
    "\n",
    "    model.compile(\n",
    "        optimizer=Adam(learning_rate=1e-6),\n",
    "        loss='binary_crossentropy',\n",
    "        metrics=['accuracy']\n",
    "    )\n",
    "\n",
    "    print(f\"Starting Phase 3 (continuing from epoch {last_trained_epoch + 1})\")\n",
    "    history3 = model.fit(\n",
    "        train_generator,\n",
    "        steps_per_epoch=train_generator.samples // train_generator.batch_size,\n",
    "        validation_data=validation_generator,\n",
    "        validation_steps=validation_generator.samples // validation_generator.batch_size,\n",
    "        initial_epoch=last_trained_epoch,\n",
    "        epochs=epochs_phase_1 + epochs_phase_2 + epochs_phase_3,\n",
    "        callbacks=[checkpoint_callback]\n",
    "    )\n",
    "\n",
    "# Evaluate model\n",
    "test_loss, test_accuracy = model.evaluate(test_generator)\n",
    "val_loss, val_accuracy = model.evaluate(validation_generator)\n",
    "\n",
    "print(f'Test Loss (Rose): {test_loss}')\n",
    "print(f'Test Accuracy (Rose): {test_accuracy}')\n",
    "print(f'Validation Loss (Rose): {val_loss}')\n",
    "print(f'Validation Accuracy (Rose): {val_accuracy}')"
   ]
  },
  {
   "cell_type": "code",
   "execution_count": null,
   "id": "f785a0c4",
   "metadata": {},
   "outputs": [],
   "source": []
  },
  {
   "cell_type": "code",
   "execution_count": null,
   "id": "34eec818",
   "metadata": {},
   "outputs": [],
   "source": []
  }
 ],
 "metadata": {
  "kernelspec": {
   "display_name": "Python 3 (ipykernel)",
   "language": "python",
   "name": "python3"
  },
  "language_info": {
   "codemirror_mode": {
    "name": "ipython",
    "version": 3
   },
   "file_extension": ".py",
   "mimetype": "text/x-python",
   "name": "python",
   "nbconvert_exporter": "python",
   "pygments_lexer": "ipython3",
   "version": "3.11.5"
  }
 },
 "nbformat": 4,
 "nbformat_minor": 5
}
