{
 "cells": [
  {
   "cell_type": "code",
   "execution_count": 2,
   "id": "1faacdc3",
   "metadata": {},
   "outputs": [
    {
     "name": "stdout",
     "output_type": "stream",
     "text": [
      "Found 2238 images belonging to 2 classes.\n",
      "Found 482 images belonging to 2 classes.\n",
      "Found 480 images belonging to 2 classes.\n",
      "No saved model found. Starting fresh.\n",
      "Starting Phase 1 (continuing from epoch 1)\n",
      "Epoch 1/10\n",
      "\u001b[1m69/69\u001b[0m \u001b[32m━━━━━━━━━━━━━━━━━━━━\u001b[0m\u001b[37m\u001b[0m \u001b[1m0s\u001b[0m 20s/step - accuracy: 0.8846 - loss: 0.3180 \n",
      "Epoch 1: saving model to ./checkpoints\\model_checkpoint_hibiscus_epoch_01.h5\n"
     ]
    },
    {
     "name": "stderr",
     "output_type": "stream",
     "text": [
      "WARNING:absl:You are saving your model as an HDF5 file via `model.save()` or `keras.saving.save_model(model)`. This file format is considered legacy. We recommend using instead the native Keras format, e.g. `model.save('my_model.keras')` or `keras.saving.save_model(model, 'my_model.keras')`. \n"
     ]
    },
    {
     "name": "stdout",
     "output_type": "stream",
     "text": [
      "\u001b[1m69/69\u001b[0m \u001b[32m━━━━━━━━━━━━━━━━━━━━\u001b[0m\u001b[37m\u001b[0m \u001b[1m1944s\u001b[0m 26s/step - accuracy: 0.8856 - loss: 0.3161 - val_accuracy: 0.9896 - val_loss: 0.0678\n",
      "Epoch 2/10\n",
      "\u001b[1m 1/69\u001b[0m \u001b[37m━━━━━━━━━━━━━━━━━━━━\u001b[0m \u001b[1m23:42\u001b[0m 21s/step - accuracy: 0.9688 - loss: 0.0837"
     ]
    },
    {
     "name": "stderr",
     "output_type": "stream",
     "text": [
      "C:\\Users\\HP\\Documents\\anaconda2\\Lib\\site-packages\\keras\\src\\trainers\\epoch_iterator.py:107: UserWarning: Your input ran out of data; interrupting training. Make sure that your dataset or generator can generate at least `steps_per_epoch * epochs` batches. You may need to use the `.repeat()` function when building your dataset.\n",
      "  self._interrupted_warning()\n"
     ]
    },
    {
     "name": "stdout",
     "output_type": "stream",
     "text": [
      "\n",
      "Epoch 2: saving model to ./checkpoints\\model_checkpoint_hibiscus_epoch_02.h5\n"
     ]
    },
    {
     "name": "stderr",
     "output_type": "stream",
     "text": [
      "WARNING:absl:You are saving your model as an HDF5 file via `model.save()` or `keras.saving.save_model(model)`. This file format is considered legacy. We recommend using instead the native Keras format, e.g. `model.save('my_model.keras')` or `keras.saving.save_model(model, 'my_model.keras')`. \n"
     ]
    },
    {
     "name": "stdout",
     "output_type": "stream",
     "text": [
      "\u001b[1m69/69\u001b[0m \u001b[32m━━━━━━━━━━━━━━━━━━━━\u001b[0m\u001b[37m\u001b[0m \u001b[1m334s\u001b[0m 5s/step - accuracy: 0.9688 - loss: 0.0837 - val_accuracy: 0.9896 - val_loss: 0.0670\n",
      "Epoch 3/10\n",
      "\u001b[1m69/69\u001b[0m \u001b[32m━━━━━━━━━━━━━━━━━━━━\u001b[0m\u001b[37m\u001b[0m \u001b[1m0s\u001b[0m 19s/step - accuracy: 0.9963 - loss: 0.0511 \n",
      "Epoch 3: saving model to ./checkpoints\\model_checkpoint_hibiscus_epoch_03.h5\n"
     ]
    },
    {
     "name": "stderr",
     "output_type": "stream",
     "text": [
      "WARNING:absl:You are saving your model as an HDF5 file via `model.save()` or `keras.saving.save_model(model)`. This file format is considered legacy. We recommend using instead the native Keras format, e.g. `model.save('my_model.keras')` or `keras.saving.save_model(model, 'my_model.keras')`. \n"
     ]
    },
    {
     "name": "stdout",
     "output_type": "stream",
     "text": [
      "\u001b[1m69/69\u001b[0m \u001b[32m━━━━━━━━━━━━━━━━━━━━\u001b[0m\u001b[37m\u001b[0m \u001b[1m1594s\u001b[0m 23s/step - accuracy: 0.9963 - loss: 0.0510 - val_accuracy: 0.9979 - val_loss: 0.0336\n",
      "Epoch 4/10\n",
      "\u001b[1m 1/69\u001b[0m \u001b[37m━━━━━━━━━━━━━━━━━━━━\u001b[0m \u001b[1m24:52\u001b[0m 22s/step - accuracy: 1.0000 - loss: 0.0230\n",
      "Epoch 4: saving model to ./checkpoints\\model_checkpoint_hibiscus_epoch_04.h5\n"
     ]
    },
    {
     "name": "stderr",
     "output_type": "stream",
     "text": [
      "WARNING:absl:You are saving your model as an HDF5 file via `model.save()` or `keras.saving.save_model(model)`. This file format is considered legacy. We recommend using instead the native Keras format, e.g. `model.save('my_model.keras')` or `keras.saving.save_model(model, 'my_model.keras')`. \n"
     ]
    },
    {
     "name": "stdout",
     "output_type": "stream",
     "text": [
      "\u001b[1m69/69\u001b[0m \u001b[32m━━━━━━━━━━━━━━━━━━━━\u001b[0m\u001b[37m\u001b[0m \u001b[1m337s\u001b[0m 5s/step - accuracy: 1.0000 - loss: 0.0230 - val_accuracy: 0.9979 - val_loss: 0.0333\n",
      "Epoch 5/10\n",
      "\u001b[1m69/69\u001b[0m \u001b[32m━━━━━━━━━━━━━━━━━━━━\u001b[0m\u001b[37m\u001b[0m \u001b[1m0s\u001b[0m 20s/step - accuracy: 0.9965 - loss: 0.0298 \n",
      "Epoch 5: saving model to ./checkpoints\\model_checkpoint_hibiscus_epoch_05.h5\n"
     ]
    },
    {
     "name": "stderr",
     "output_type": "stream",
     "text": [
      "WARNING:absl:You are saving your model as an HDF5 file via `model.save()` or `keras.saving.save_model(model)`. This file format is considered legacy. We recommend using instead the native Keras format, e.g. `model.save('my_model.keras')` or `keras.saving.save_model(model, 'my_model.keras')`. \n"
     ]
    },
    {
     "name": "stdout",
     "output_type": "stream",
     "text": [
      "\u001b[1m69/69\u001b[0m \u001b[32m━━━━━━━━━━━━━━━━━━━━\u001b[0m\u001b[37m\u001b[0m \u001b[1m1730s\u001b[0m 25s/step - accuracy: 0.9965 - loss: 0.0298 - val_accuracy: 0.9979 - val_loss: 0.0208\n",
      "Epoch 6/10\n",
      "\u001b[1m 1/69\u001b[0m \u001b[37m━━━━━━━━━━━━━━━━━━━━\u001b[0m \u001b[1m23:20\u001b[0m 21s/step - accuracy: 1.0000 - loss: 0.0209\n",
      "Epoch 6: saving model to ./checkpoints\\model_checkpoint_hibiscus_epoch_06.h5\n"
     ]
    },
    {
     "name": "stderr",
     "output_type": "stream",
     "text": [
      "WARNING:absl:You are saving your model as an HDF5 file via `model.save()` or `keras.saving.save_model(model)`. This file format is considered legacy. We recommend using instead the native Keras format, e.g. `model.save('my_model.keras')` or `keras.saving.save_model(model, 'my_model.keras')`. \n"
     ]
    },
    {
     "name": "stdout",
     "output_type": "stream",
     "text": [
      "\u001b[1m69/69\u001b[0m \u001b[32m━━━━━━━━━━━━━━━━━━━━\u001b[0m\u001b[37m\u001b[0m \u001b[1m336s\u001b[0m 5s/step - accuracy: 1.0000 - loss: 0.0209 - val_accuracy: 0.9979 - val_loss: 0.0209\n",
      "Epoch 7/10\n",
      "\u001b[1m69/69\u001b[0m \u001b[32m━━━━━━━━━━━━━━━━━━━━\u001b[0m\u001b[37m\u001b[0m \u001b[1m0s\u001b[0m 21s/step - accuracy: 0.9992 - loss: 0.0181 \n",
      "Epoch 7: saving model to ./checkpoints\\model_checkpoint_hibiscus_epoch_07.h5\n"
     ]
    },
    {
     "name": "stderr",
     "output_type": "stream",
     "text": [
      "WARNING:absl:You are saving your model as an HDF5 file via `model.save()` or `keras.saving.save_model(model)`. This file format is considered legacy. We recommend using instead the native Keras format, e.g. `model.save('my_model.keras')` or `keras.saving.save_model(model, 'my_model.keras')`. \n"
     ]
    },
    {
     "name": "stdout",
     "output_type": "stream",
     "text": [
      "\u001b[1m69/69\u001b[0m \u001b[32m━━━━━━━━━━━━━━━━━━━━\u001b[0m\u001b[37m\u001b[0m \u001b[1m1728s\u001b[0m 25s/step - accuracy: 0.9992 - loss: 0.0181 - val_accuracy: 0.9979 - val_loss: 0.0151\n",
      "Epoch 8/10\n",
      "\u001b[1m 1/69\u001b[0m \u001b[37m━━━━━━━━━━━━━━━━━━━━\u001b[0m \u001b[1m23:48\u001b[0m 21s/step - accuracy: 1.0000 - loss: 0.0090\n",
      "Epoch 8: saving model to ./checkpoints\\model_checkpoint_hibiscus_epoch_08.h5\n"
     ]
    },
    {
     "name": "stderr",
     "output_type": "stream",
     "text": [
      "WARNING:absl:You are saving your model as an HDF5 file via `model.save()` or `keras.saving.save_model(model)`. This file format is considered legacy. We recommend using instead the native Keras format, e.g. `model.save('my_model.keras')` or `keras.saving.save_model(model, 'my_model.keras')`. \n"
     ]
    },
    {
     "name": "stdout",
     "output_type": "stream",
     "text": [
      "\u001b[1m69/69\u001b[0m \u001b[32m━━━━━━━━━━━━━━━━━━━━\u001b[0m\u001b[37m\u001b[0m \u001b[1m332s\u001b[0m 5s/step - accuracy: 1.0000 - loss: 0.0090 - val_accuracy: 0.9979 - val_loss: 0.0151\n",
      "Epoch 9/10\n",
      "\u001b[1m69/69\u001b[0m \u001b[32m━━━━━━━━━━━━━━━━━━━━\u001b[0m\u001b[37m\u001b[0m \u001b[1m0s\u001b[0m 20s/step - accuracy: 1.0000 - loss: 0.0119 \n",
      "Epoch 9: saving model to ./checkpoints\\model_checkpoint_hibiscus_epoch_09.h5\n"
     ]
    },
    {
     "name": "stderr",
     "output_type": "stream",
     "text": [
      "WARNING:absl:You are saving your model as an HDF5 file via `model.save()` or `keras.saving.save_model(model)`. This file format is considered legacy. We recommend using instead the native Keras format, e.g. `model.save('my_model.keras')` or `keras.saving.save_model(model, 'my_model.keras')`. \n"
     ]
    },
    {
     "name": "stdout",
     "output_type": "stream",
     "text": [
      "\u001b[1m69/69\u001b[0m \u001b[32m━━━━━━━━━━━━━━━━━━━━\u001b[0m\u001b[37m\u001b[0m \u001b[1m1651s\u001b[0m 24s/step - accuracy: 1.0000 - loss: 0.0119 - val_accuracy: 0.9979 - val_loss: 0.0113\n",
      "Epoch 10/10\n",
      "\u001b[1m 1/69\u001b[0m \u001b[37m━━━━━━━━━━━━━━━━━━━━\u001b[0m \u001b[1m21:55\u001b[0m 19s/step - accuracy: 1.0000 - loss: 0.0109\n",
      "Epoch 10: saving model to ./checkpoints\\model_checkpoint_hibiscus_epoch_10.h5\n"
     ]
    },
    {
     "name": "stderr",
     "output_type": "stream",
     "text": [
      "WARNING:absl:You are saving your model as an HDF5 file via `model.save()` or `keras.saving.save_model(model)`. This file format is considered legacy. We recommend using instead the native Keras format, e.g. `model.save('my_model.keras')` or `keras.saving.save_model(model, 'my_model.keras')`. \n"
     ]
    },
    {
     "name": "stdout",
     "output_type": "stream",
     "text": [
      "\u001b[1m69/69\u001b[0m \u001b[32m━━━━━━━━━━━━━━━━━━━━\u001b[0m\u001b[37m\u001b[0m \u001b[1m331s\u001b[0m 5s/step - accuracy: 1.0000 - loss: 0.0109 - val_accuracy: 0.9979 - val_loss: 0.0112\n",
      "Starting Phase 2 (continuing from epoch 11)\n",
      "Epoch 11/15\n",
      "\u001b[1m69/69\u001b[0m \u001b[32m━━━━━━━━━━━━━━━━━━━━\u001b[0m\u001b[37m\u001b[0m \u001b[1m0s\u001b[0m 24s/step - accuracy: 0.9951 - loss: 0.0285 \n",
      "Epoch 11: saving model to ./checkpoints\\model_checkpoint_hibiscus_epoch_11.h5\n"
     ]
    },
    {
     "name": "stderr",
     "output_type": "stream",
     "text": [
      "WARNING:absl:You are saving your model as an HDF5 file via `model.save()` or `keras.saving.save_model(model)`. This file format is considered legacy. We recommend using instead the native Keras format, e.g. `model.save('my_model.keras')` or `keras.saving.save_model(model, 'my_model.keras')`. \n"
     ]
    },
    {
     "name": "stdout",
     "output_type": "stream",
     "text": [
      "\u001b[1m69/69\u001b[0m \u001b[32m━━━━━━━━━━━━━━━━━━━━\u001b[0m\u001b[37m\u001b[0m \u001b[1m2187s\u001b[0m 29s/step - accuracy: 0.9951 - loss: 0.0284 - val_accuracy: 0.9917 - val_loss: 0.0251\n",
      "Epoch 12/15\n",
      "\u001b[1m 1/69\u001b[0m \u001b[37m━━━━━━━━━━━━━━━━━━━━\u001b[0m \u001b[1m28:43\u001b[0m 25s/step - accuracy: 1.0000 - loss: 0.0086\n",
      "Epoch 12: saving model to ./checkpoints\\model_checkpoint_hibiscus_epoch_12.h5\n"
     ]
    },
    {
     "name": "stderr",
     "output_type": "stream",
     "text": [
      "WARNING:absl:You are saving your model as an HDF5 file via `model.save()` or `keras.saving.save_model(model)`. This file format is considered legacy. We recommend using instead the native Keras format, e.g. `model.save('my_model.keras')` or `keras.saving.save_model(model, 'my_model.keras')`. \n"
     ]
    },
    {
     "name": "stdout",
     "output_type": "stream",
     "text": [
      "\u001b[1m69/69\u001b[0m \u001b[32m━━━━━━━━━━━━━━━━━━━━\u001b[0m\u001b[37m\u001b[0m \u001b[1m345s\u001b[0m 5s/step - accuracy: 1.0000 - loss: 0.0086 - val_accuracy: 0.9917 - val_loss: 0.0251\n",
      "Epoch 13/15\n",
      "\u001b[1m69/69\u001b[0m \u001b[32m━━━━━━━━━━━━━━━━━━━━\u001b[0m\u001b[37m\u001b[0m \u001b[1m0s\u001b[0m 24s/step - accuracy: 0.9952 - loss: 0.0121 \n",
      "Epoch 13: saving model to ./checkpoints\\model_checkpoint_hibiscus_epoch_13.h5\n"
     ]
    },
    {
     "name": "stderr",
     "output_type": "stream",
     "text": [
      "WARNING:absl:You are saving your model as an HDF5 file via `model.save()` or `keras.saving.save_model(model)`. This file format is considered legacy. We recommend using instead the native Keras format, e.g. `model.save('my_model.keras')` or `keras.saving.save_model(model, 'my_model.keras')`. \n"
     ]
    },
    {
     "name": "stdout",
     "output_type": "stream",
     "text": [
      "\u001b[1m69/69\u001b[0m \u001b[32m━━━━━━━━━━━━━━━━━━━━\u001b[0m\u001b[37m\u001b[0m \u001b[1m1942s\u001b[0m 28s/step - accuracy: 0.9952 - loss: 0.0121 - val_accuracy: 0.9979 - val_loss: 0.0098\n",
      "Epoch 14/15\n",
      "\u001b[1m 1/69\u001b[0m \u001b[37m━━━━━━━━━━━━━━━━━━━━\u001b[0m \u001b[1m28:25\u001b[0m 25s/step - accuracy: 1.0000 - loss: 0.0057\n",
      "Epoch 14: saving model to ./checkpoints\\model_checkpoint_hibiscus_epoch_14.h5\n"
     ]
    },
    {
     "name": "stderr",
     "output_type": "stream",
     "text": [
      "WARNING:absl:You are saving your model as an HDF5 file via `model.save()` or `keras.saving.save_model(model)`. This file format is considered legacy. We recommend using instead the native Keras format, e.g. `model.save('my_model.keras')` or `keras.saving.save_model(model, 'my_model.keras')`. \n"
     ]
    },
    {
     "name": "stdout",
     "output_type": "stream",
     "text": [
      "\u001b[1m69/69\u001b[0m \u001b[32m━━━━━━━━━━━━━━━━━━━━\u001b[0m\u001b[37m\u001b[0m \u001b[1m343s\u001b[0m 5s/step - accuracy: 1.0000 - loss: 0.0057 - val_accuracy: 0.9979 - val_loss: 0.0109\n",
      "Epoch 15/15\n",
      "\u001b[1m69/69\u001b[0m \u001b[32m━━━━━━━━━━━━━━━━━━━━\u001b[0m\u001b[37m\u001b[0m \u001b[1m0s\u001b[0m 20s/step - accuracy: 0.9991 - loss: 0.0074 \n",
      "Epoch 15: saving model to ./checkpoints\\model_checkpoint_hibiscus_epoch_15.h5\n"
     ]
    },
    {
     "name": "stderr",
     "output_type": "stream",
     "text": [
      "WARNING:absl:You are saving your model as an HDF5 file via `model.save()` or `keras.saving.save_model(model)`. This file format is considered legacy. We recommend using instead the native Keras format, e.g. `model.save('my_model.keras')` or `keras.saving.save_model(model, 'my_model.keras')`. \n"
     ]
    },
    {
     "name": "stdout",
     "output_type": "stream",
     "text": [
      "\u001b[1m69/69\u001b[0m \u001b[32m━━━━━━━━━━━━━━━━━━━━\u001b[0m\u001b[37m\u001b[0m \u001b[1m1566s\u001b[0m 23s/step - accuracy: 0.9991 - loss: 0.0074 - val_accuracy: 0.9979 - val_loss: 0.0058\n",
      "Starting Phase 3 (continuing from epoch 16)\n",
      "Epoch 16/20\n",
      "\u001b[1m69/69\u001b[0m \u001b[32m━━━━━━━━━━━━━━━━━━━━\u001b[0m\u001b[37m\u001b[0m \u001b[1m0s\u001b[0m 44s/step - accuracy: 0.9827 - loss: 0.0457 \n",
      "Epoch 16: saving model to ./checkpoints\\model_checkpoint_hibiscus_epoch_16.h5\n"
     ]
    },
    {
     "name": "stderr",
     "output_type": "stream",
     "text": [
      "WARNING:absl:You are saving your model as an HDF5 file via `model.save()` or `keras.saving.save_model(model)`. This file format is considered legacy. We recommend using instead the native Keras format, e.g. `model.save('my_model.keras')` or `keras.saving.save_model(model, 'my_model.keras')`. \n"
     ]
    },
    {
     "name": "stdout",
     "output_type": "stream",
     "text": [
      "\u001b[1m69/69\u001b[0m \u001b[32m━━━━━━━━━━━━━━━━━━━━\u001b[0m\u001b[37m\u001b[0m \u001b[1m3440s\u001b[0m 47s/step - accuracy: 0.9827 - loss: 0.0456 - val_accuracy: 0.9958 - val_loss: 0.0073\n",
      "Epoch 17/20\n",
      "\u001b[1m 1/69\u001b[0m \u001b[37m━━━━━━━━━━━━━━━━━━━━\u001b[0m \u001b[1m50:22\u001b[0m 44s/step - accuracy: 1.0000 - loss: 0.0116\n",
      "Epoch 17: saving model to ./checkpoints\\model_checkpoint_hibiscus_epoch_17.h5\n"
     ]
    },
    {
     "name": "stderr",
     "output_type": "stream",
     "text": [
      "WARNING:absl:You are saving your model as an HDF5 file via `model.save()` or `keras.saving.save_model(model)`. This file format is considered legacy. We recommend using instead the native Keras format, e.g. `model.save('my_model.keras')` or `keras.saving.save_model(model, 'my_model.keras')`. \n"
     ]
    },
    {
     "name": "stdout",
     "output_type": "stream",
     "text": [
      "\u001b[1m69/69\u001b[0m \u001b[32m━━━━━━━━━━━━━━━━━━━━\u001b[0m\u001b[37m\u001b[0m \u001b[1m224s\u001b[0m 3s/step - accuracy: 1.0000 - loss: 0.0116 - val_accuracy: 0.9958 - val_loss: 0.0074\n",
      "Epoch 18/20\n",
      "\u001b[1m69/69\u001b[0m \u001b[32m━━━━━━━━━━━━━━━━━━━━\u001b[0m\u001b[37m\u001b[0m \u001b[1m0s\u001b[0m 44s/step - accuracy: 0.9968 - loss: 0.0170 \n",
      "Epoch 18: saving model to ./checkpoints\\model_checkpoint_hibiscus_epoch_18.h5\n"
     ]
    },
    {
     "name": "stderr",
     "output_type": "stream",
     "text": [
      "WARNING:absl:You are saving your model as an HDF5 file via `model.save()` or `keras.saving.save_model(model)`. This file format is considered legacy. We recommend using instead the native Keras format, e.g. `model.save('my_model.keras')` or `keras.saving.save_model(model, 'my_model.keras')`. \n"
     ]
    },
    {
     "name": "stdout",
     "output_type": "stream",
     "text": [
      "\u001b[1m69/69\u001b[0m \u001b[32m━━━━━━━━━━━━━━━━━━━━\u001b[0m\u001b[37m\u001b[0m \u001b[1m3218s\u001b[0m 47s/step - accuracy: 0.9968 - loss: 0.0170 - val_accuracy: 0.9917 - val_loss: 0.0210\n",
      "Epoch 19/20\n",
      "\u001b[1m 1/69\u001b[0m \u001b[37m━━━━━━━━━━━━━━━━━━━━\u001b[0m \u001b[1m49:58\u001b[0m 44s/step - accuracy: 1.0000 - loss: 0.0043\n",
      "Epoch 19: saving model to ./checkpoints\\model_checkpoint_hibiscus_epoch_19.h5\n"
     ]
    },
    {
     "name": "stderr",
     "output_type": "stream",
     "text": [
      "WARNING:absl:You are saving your model as an HDF5 file via `model.save()` or `keras.saving.save_model(model)`. This file format is considered legacy. We recommend using instead the native Keras format, e.g. `model.save('my_model.keras')` or `keras.saving.save_model(model, 'my_model.keras')`. \n"
     ]
    },
    {
     "name": "stdout",
     "output_type": "stream",
     "text": [
      "\u001b[1m69/69\u001b[0m \u001b[32m━━━━━━━━━━━━━━━━━━━━\u001b[0m\u001b[37m\u001b[0m \u001b[1m225s\u001b[0m 3s/step - accuracy: 1.0000 - loss: 0.0043 - val_accuracy: 0.9917 - val_loss: 0.0221\n",
      "Epoch 20/20\n",
      "\u001b[1m69/69\u001b[0m \u001b[32m━━━━━━━━━━━━━━━━━━━━\u001b[0m\u001b[37m\u001b[0m \u001b[1m0s\u001b[0m 44s/step - accuracy: 0.9984 - loss: 0.0100 \n",
      "Epoch 20: saving model to ./checkpoints\\model_checkpoint_hibiscus_epoch_20.h5\n"
     ]
    },
    {
     "name": "stderr",
     "output_type": "stream",
     "text": [
      "WARNING:absl:You are saving your model as an HDF5 file via `model.save()` or `keras.saving.save_model(model)`. This file format is considered legacy. We recommend using instead the native Keras format, e.g. `model.save('my_model.keras')` or `keras.saving.save_model(model, 'my_model.keras')`. \n"
     ]
    },
    {
     "name": "stdout",
     "output_type": "stream",
     "text": [
      "\u001b[1m69/69\u001b[0m \u001b[32m━━━━━━━━━━━━━━━━━━━━\u001b[0m\u001b[37m\u001b[0m \u001b[1m3219s\u001b[0m 47s/step - accuracy: 0.9984 - loss: 0.0100 - val_accuracy: 0.9917 - val_loss: 0.0183\n",
      "\u001b[1m15/15\u001b[0m \u001b[32m━━━━━━━━━━━━━━━━━━━━\u001b[0m\u001b[37m\u001b[0m \u001b[1m177s\u001b[0m 12s/step - accuracy: 0.9951 - loss: 0.0167\n",
      "\u001b[1m16/16\u001b[0m \u001b[32m━━━━━━━━━━━━━━━━━━━━\u001b[0m\u001b[37m\u001b[0m \u001b[1m178s\u001b[0m 11s/step - accuracy: 0.9871 - loss: 0.0253\n",
      "Test Loss (Hibiscus): 0.019365781918168068\n",
      "Test Accuracy (Hibiscus): 0.9937499761581421\n",
      "Validation Loss (Hibiscus): 0.018243135884404182\n",
      "Validation Accuracy (Hibiscus): 0.9917012453079224\n"
     ]
    }
   ],
   "source": [
    "\n",
    "import tensorflow as tf\n",
    "from tensorflow.keras.applications import VGG19, DenseNet121\n",
    "from tensorflow.keras.layers import Dense, GlobalAveragePooling2D, Concatenate, Input\n",
    "from tensorflow.keras.models import Model, load_model\n",
    "from tensorflow.keras.optimizers import Adam\n",
    "from tensorflow.keras.preprocessing.image import ImageDataGenerator\n",
    "from tensorflow.keras.callbacks import ModelCheckpoint\n",
    "import os\n",
    "import re\n",
    "\n",
    "# Updated dataset paths\n",
    "\n",
    "train_dir = 'C:/Users/HP/Desktop/train_test_split_ext/sent3/images_hibiscus_ext/train'\n",
    "test_dir = 'C:/Users/HP/Desktop/train_test_split_ext/sent3/images_hibiscus_ext/test'\n",
    "validation_dir = 'C:/Users/HP/Desktop/train_test_split_ext/sent3/images_hibiscus_ext/val'\n",
    "\n",
    "\n",
    "# Data augmentation for training data\n",
    "train_datagen = ImageDataGenerator(rescale=1./255)\n",
    "\n",
    "# Only rescaling for validation and test data\n",
    "val_test_datagen = ImageDataGenerator(rescale=1./255)\n",
    "\n",
    "# Load data from directories\n",
    "train_generator = train_datagen.flow_from_directory(\n",
    "    train_dir,\n",
    "    target_size=(224, 224),\n",
    "    batch_size=32,\n",
    "    class_mode='binary'\n",
    ")\n",
    "\n",
    "validation_generator = val_test_datagen.flow_from_directory(\n",
    "    validation_dir,\n",
    "    target_size=(224, 224),\n",
    "    batch_size=32,\n",
    "    class_mode='binary'\n",
    ")\n",
    "\n",
    "test_generator = val_test_datagen.flow_from_directory(\n",
    "    test_dir,\n",
    "    target_size=(224, 224),\n",
    "    batch_size=32,\n",
    "    class_mode='binary',\n",
    "    shuffle=False\n",
    ")\n",
    "\n",
    "# Define checkpoint path\n",
    "checkpoint_dir = \"./checkpoints\"\n",
    "os.makedirs(checkpoint_dir, exist_ok=True)\n",
    "checkpoint_path = os.path.join(checkpoint_dir, \"model_checkpoint_hibiscus_epoch_{epoch:02d}.h5\")\n",
    "\n",
    "# Load base models without the top layers\n",
    "input_tensor = Input(shape=(224, 224, 3))\n",
    "vgg19_base = VGG19(weights='imagenet', include_top=False, input_tensor=input_tensor)\n",
    "densenet_base = DenseNet121(weights='imagenet', include_top=False, input_tensor=input_tensor)\n",
    "\n",
    "# Freeze all base model layers initially\n",
    "for layer in vgg19_base.layers:\n",
    "    layer.trainable = False\n",
    "for layer in densenet_base.layers:\n",
    "    layer.trainable = False\n",
    "\n",
    "# Extract features\n",
    "vgg19_output = GlobalAveragePooling2D()(vgg19_base.output)\n",
    "densenet_output = GlobalAveragePooling2D()(densenet_base.output)\n",
    "\n",
    "# Concatenate features\n",
    "merged = Concatenate()([vgg19_output, densenet_output])\n",
    "merged = Dense(1024, activation='relu')(merged)\n",
    "predictions = Dense(1, activation='sigmoid')(merged)\n",
    "\n",
    "# Define final model\n",
    "model = Model(inputs=input_tensor, outputs=predictions)\n",
    "\n",
    "# Find latest checkpoint\n",
    "def get_latest_checkpoint():\n",
    "    checkpoint_files = [f for f in os.listdir(checkpoint_dir) if f.startswith(\"model_checkpoint_hibiscus_epoch\")]\n",
    "    if not checkpoint_files:\n",
    "        return None, 0\n",
    "\n",
    "    # Extract epoch numbers\n",
    "    epochs_trained = [int(re.search(r'epoch_(\\d+)', f).group(1)) for f in checkpoint_files]\n",
    "    latest_epoch = max(epochs_trained)\n",
    "    latest_checkpoint = os.path.join(checkpoint_dir, f\"model_checkpoint_hibiscus_epoch_{latest_epoch:02d}.h5\")\n",
    "    return latest_checkpoint, latest_epoch\n",
    "\n",
    "latest_checkpoint, last_trained_epoch = get_latest_checkpoint()\n",
    "\n",
    "# Load the latest model checkpoint if available\n",
    "if latest_checkpoint and os.path.exists(latest_checkpoint):\n",
    "    print(f\"Resuming training from checkpoint: {latest_checkpoint}\")\n",
    "    model = load_model(latest_checkpoint)\n",
    "else:\n",
    "    print(\"No saved model found. Starting fresh.\")\n",
    "\n",
    "# Compile model\n",
    "model.compile(\n",
    "    optimizer=Adam(learning_rate=0.0001),\n",
    "    loss='binary_crossentropy',\n",
    "    metrics=['accuracy']\n",
    ")\n",
    "\n",
    "# ModelCheckpoint callback\n",
    "checkpoint_callback = ModelCheckpoint(\n",
    "    filepath=checkpoint_path,\n",
    "    save_best_only=False,\n",
    "    save_weights_only=False,\n",
    "    verbose=1\n",
    ")\n",
    "\n",
    "# Training Phases\n",
    "epochs_phase_1 = 10\n",
    "epochs_phase_2 = 5\n",
    "epochs_phase_3 = 5\n",
    "\n",
    "# Determine phase and continue training\n",
    "if last_trained_epoch < epochs_phase_1:\n",
    "    print(f\"Starting Phase 1 (continuing from epoch {last_trained_epoch + 1})\")\n",
    "    history1 = model.fit(\n",
    "        train_generator,\n",
    "        steps_per_epoch=train_generator.samples // train_generator.batch_size,\n",
    "        validation_data=validation_generator,\n",
    "        validation_steps=validation_generator.samples // validation_generator.batch_size,\n",
    "        initial_epoch=last_trained_epoch,\n",
    "        epochs=epochs_phase_1,\n",
    "        callbacks=[checkpoint_callback]\n",
    "    )\n",
    "    last_trained_epoch = epochs_phase_1\n",
    "\n",
    "# Unfreeze top 5 layers and continue training\n",
    "if last_trained_epoch < epochs_phase_1 + epochs_phase_2:\n",
    "    for layer in vgg19_base.layers[-5:]:\n",
    "        layer.trainable = True\n",
    "    for layer in densenet_base.layers[-5:]:\n",
    "        layer.trainable = True\n",
    "\n",
    "    model.compile(\n",
    "        optimizer=Adam(learning_rate=1e-5),\n",
    "        loss='binary_crossentropy',\n",
    "        metrics=['accuracy']\n",
    "    )\n",
    "\n",
    "    print(f\"Starting Phase 2 (continuing from epoch {last_trained_epoch + 1})\")\n",
    "    history2 = model.fit(\n",
    "        train_generator,\n",
    "        steps_per_epoch=train_generator.samples // train_generator.batch_size,\n",
    "        validation_data=validation_generator,\n",
    "        validation_steps=validation_generator.samples // validation_generator.batch_size,\n",
    "        initial_epoch=last_trained_epoch,\n",
    "        epochs=epochs_phase_1 + epochs_phase_2,\n",
    "        callbacks=[checkpoint_callback]\n",
    "    )\n",
    "    last_trained_epoch = epochs_phase_1 + epochs_phase_2\n",
    "\n",
    "# Unfreeze all layers and fine-tune\n",
    "if last_trained_epoch < epochs_phase_1 + epochs_phase_2 + epochs_phase_3:\n",
    "    for layer in vgg19_base.layers:\n",
    "        layer.trainable = True\n",
    "    for layer in densenet_base.layers:\n",
    "        layer.trainable = True\n",
    "\n",
    "    model.compile(\n",
    "        optimizer=Adam(learning_rate=1e-6),\n",
    "        loss='binary_crossentropy',\n",
    "        metrics=['accuracy']\n",
    "    )\n",
    "\n",
    "    print(f\"Starting Phase 3 (continuing from epoch {last_trained_epoch + 1})\")\n",
    "    history3 = model.fit(\n",
    "        train_generator,\n",
    "        steps_per_epoch=train_generator.samples // train_generator.batch_size,\n",
    "        validation_data=validation_generator,\n",
    "        validation_steps=validation_generator.samples // validation_generator.batch_size,\n",
    "        initial_epoch=last_trained_epoch,\n",
    "        epochs=epochs_phase_1 + epochs_phase_2 + epochs_phase_3,\n",
    "        callbacks=[checkpoint_callback]\n",
    "    )\n",
    "\n",
    "# Evaluate model\n",
    "test_loss, test_accuracy = model.evaluate(test_generator)\n",
    "val_loss, val_accuracy = model.evaluate(validation_generator)\n",
    "\n",
    "print(f'Test Loss (Hibiscus): {test_loss}')\n",
    "print(f'Test Accuracy (Hibiscus): {test_accuracy}')\n",
    "print(f'Validation Loss (Hibiscus): {val_loss}')\n",
    "print(f'Validation Accuracy (Hibiscus): {val_accuracy}')"
   ]
  },
  {
   "cell_type": "code",
   "execution_count": null,
   "id": "9ec2ab99",
   "metadata": {},
   "outputs": [],
   "source": []
  }
 ],
 "metadata": {
  "kernelspec": {
   "display_name": "Python 3 (ipykernel)",
   "language": "python",
   "name": "python3"
  },
  "language_info": {
   "codemirror_mode": {
    "name": "ipython",
    "version": 3
   },
   "file_extension": ".py",
   "mimetype": "text/x-python",
   "name": "python",
   "nbconvert_exporter": "python",
   "pygments_lexer": "ipython3",
   "version": "3.11.5"
  }
 },
 "nbformat": 4,
 "nbformat_minor": 5
}
