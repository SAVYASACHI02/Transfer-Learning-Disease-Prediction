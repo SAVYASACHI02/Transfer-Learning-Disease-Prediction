{
 "cells": [
  {
   "cell_type": "code",
   "execution_count": 4,
   "id": "7a2c9a41",
   "metadata": {},
   "outputs": [
    {
     "name": "stdout",
     "output_type": "stream",
     "text": [
      "Found 10872 images belonging to 2 classes.\n",
      "Found 2330 images belonging to 2 classes.\n",
      "Found 2330 images belonging to 2 classes.\n",
      "No saved model found. Starting fresh.\n",
      "Starting Phase 1 (continuing from epoch 1)\n",
      "Epoch 1/10\n",
      "\u001b[1m339/339\u001b[0m \u001b[32m━━━━━━━━━━━━━━━━━━━━\u001b[0m\u001b[37m\u001b[0m \u001b[1m0s\u001b[0m 2s/step - accuracy: 0.8868 - loss: 0.2823\n",
      "Epoch 1: saving model to ./checkpoints_adamW\\model_checkpoint_lantana_epoch_01.h5\n"
     ]
    },
    {
     "name": "stderr",
     "output_type": "stream",
     "text": [
      "WARNING:absl:You are saving your model as an HDF5 file via `model.save()` or `keras.saving.save_model(model)`. This file format is considered legacy. We recommend using instead the native Keras format, e.g. `model.save('my_model.keras')` or `keras.saving.save_model(model, 'my_model.keras')`. \n"
     ]
    },
    {
     "name": "stdout",
     "output_type": "stream",
     "text": [
      "\u001b[1m339/339\u001b[0m \u001b[32m━━━━━━━━━━━━━━━━━━━━\u001b[0m\u001b[37m\u001b[0m \u001b[1m1035s\u001b[0m 3s/step - accuracy: 0.8870 - loss: 0.2820 - val_accuracy: 0.9727 - val_loss: 0.0938\n",
      "Epoch 2/10\n",
      "\u001b[1m  1/339\u001b[0m \u001b[37m━━━━━━━━━━━━━━━━━━━━\u001b[0m \u001b[1m14:46\u001b[0m 3s/step - accuracy: 1.0000 - loss: 0.0932\n",
      "Epoch 2: saving model to ./checkpoints_adamW\\model_checkpoint_lantana_epoch_02.h5\n"
     ]
    },
    {
     "name": "stderr",
     "output_type": "stream",
     "text": [
      "WARNING:absl:You are saving your model as an HDF5 file via `model.save()` or `keras.saving.save_model(model)`. This file format is considered legacy. We recommend using instead the native Keras format, e.g. `model.save('my_model.keras')` or `keras.saving.save_model(model, 'my_model.keras')`. \n"
     ]
    },
    {
     "name": "stdout",
     "output_type": "stream",
     "text": [
      "\u001b[1m339/339\u001b[0m \u001b[32m━━━━━━━━━━━━━━━━━━━━\u001b[0m\u001b[37m\u001b[0m \u001b[1m202s\u001b[0m 589ms/step - accuracy: 1.0000 - loss: 0.0932 - val_accuracy: 0.9722 - val_loss: 0.0910\n",
      "Epoch 3/10\n",
      "\u001b[1m339/339\u001b[0m \u001b[32m━━━━━━━━━━━━━━━━━━━━\u001b[0m\u001b[37m\u001b[0m \u001b[1m0s\u001b[0m 3s/step - accuracy: 0.9762 - loss: 0.0797\n",
      "Epoch 3: saving model to ./checkpoints_adamW\\model_checkpoint_lantana_epoch_03.h5\n"
     ]
    },
    {
     "name": "stderr",
     "output_type": "stream",
     "text": [
      "WARNING:absl:You are saving your model as an HDF5 file via `model.save()` or `keras.saving.save_model(model)`. This file format is considered legacy. We recommend using instead the native Keras format, e.g. `model.save('my_model.keras')` or `keras.saving.save_model(model, 'my_model.keras')`. \n"
     ]
    },
    {
     "name": "stdout",
     "output_type": "stream",
     "text": [
      "\u001b[1m339/339\u001b[0m \u001b[32m━━━━━━━━━━━━━━━━━━━━\u001b[0m\u001b[37m\u001b[0m \u001b[1m1140s\u001b[0m 3s/step - accuracy: 0.9762 - loss: 0.0797 - val_accuracy: 0.9831 - val_loss: 0.0651\n",
      "Epoch 4/10\n",
      "\u001b[1m  1/339\u001b[0m \u001b[37m━━━━━━━━━━━━━━━━━━━━\u001b[0m \u001b[1m15:15\u001b[0m 3s/step - accuracy: 1.0000 - loss: 0.0220\n",
      "Epoch 4: saving model to ./checkpoints_adamW\\model_checkpoint_lantana_epoch_04.h5\n"
     ]
    },
    {
     "name": "stderr",
     "output_type": "stream",
     "text": [
      "WARNING:absl:You are saving your model as an HDF5 file via `model.save()` or `keras.saving.save_model(model)`. This file format is considered legacy. We recommend using instead the native Keras format, e.g. `model.save('my_model.keras')` or `keras.saving.save_model(model, 'my_model.keras')`. \n"
     ]
    },
    {
     "name": "stdout",
     "output_type": "stream",
     "text": [
      "\u001b[1m339/339\u001b[0m \u001b[32m━━━━━━━━━━━━━━━━━━━━\u001b[0m\u001b[37m\u001b[0m \u001b[1m203s\u001b[0m 592ms/step - accuracy: 1.0000 - loss: 0.0220 - val_accuracy: 0.9835 - val_loss: 0.0618\n",
      "Epoch 5/10\n",
      "\u001b[1m339/339\u001b[0m \u001b[32m━━━━━━━━━━━━━━━━━━━━\u001b[0m\u001b[37m\u001b[0m \u001b[1m0s\u001b[0m 3s/step - accuracy: 0.9844 - loss: 0.0529\n",
      "Epoch 5: saving model to ./checkpoints_adamW\\model_checkpoint_lantana_epoch_05.h5\n"
     ]
    },
    {
     "name": "stderr",
     "output_type": "stream",
     "text": [
      "WARNING:absl:You are saving your model as an HDF5 file via `model.save()` or `keras.saving.save_model(model)`. This file format is considered legacy. We recommend using instead the native Keras format, e.g. `model.save('my_model.keras')` or `keras.saving.save_model(model, 'my_model.keras')`. \n"
     ]
    },
    {
     "name": "stdout",
     "output_type": "stream",
     "text": [
      "\u001b[1m339/339\u001b[0m \u001b[32m━━━━━━━━━━━━━━━━━━━━\u001b[0m\u001b[37m\u001b[0m \u001b[1m1141s\u001b[0m 3s/step - accuracy: 0.9844 - loss: 0.0529 - val_accuracy: 0.9844 - val_loss: 0.0499\n",
      "Epoch 6/10\n",
      "\u001b[1m  1/339\u001b[0m \u001b[37m━━━━━━━━━━━━━━━━━━━━\u001b[0m \u001b[1m15:14\u001b[0m 3s/step - accuracy: 0.9375 - loss: 0.1079\n",
      "Epoch 6: saving model to ./checkpoints_adamW\\model_checkpoint_lantana_epoch_06.h5\n"
     ]
    },
    {
     "name": "stderr",
     "output_type": "stream",
     "text": [
      "WARNING:absl:You are saving your model as an HDF5 file via `model.save()` or `keras.saving.save_model(model)`. This file format is considered legacy. We recommend using instead the native Keras format, e.g. `model.save('my_model.keras')` or `keras.saving.save_model(model, 'my_model.keras')`. \n"
     ]
    },
    {
     "name": "stdout",
     "output_type": "stream",
     "text": [
      "\u001b[1m339/339\u001b[0m \u001b[32m━━━━━━━━━━━━━━━━━━━━\u001b[0m\u001b[37m\u001b[0m \u001b[1m202s\u001b[0m 591ms/step - accuracy: 0.9375 - loss: 0.1079 - val_accuracy: 0.9800 - val_loss: 0.0543\n",
      "Epoch 7/10\n",
      "\u001b[1m339/339\u001b[0m \u001b[32m━━━━━━━━━━━━━━━━━━━━\u001b[0m\u001b[37m\u001b[0m \u001b[1m0s\u001b[0m 3s/step - accuracy: 0.9854 - loss: 0.0433\n",
      "Epoch 7: saving model to ./checkpoints_adamW\\model_checkpoint_lantana_epoch_07.h5\n"
     ]
    },
    {
     "name": "stderr",
     "output_type": "stream",
     "text": [
      "WARNING:absl:You are saving your model as an HDF5 file via `model.save()` or `keras.saving.save_model(model)`. This file format is considered legacy. We recommend using instead the native Keras format, e.g. `model.save('my_model.keras')` or `keras.saving.save_model(model, 'my_model.keras')`. \n"
     ]
    },
    {
     "name": "stdout",
     "output_type": "stream",
     "text": [
      "\u001b[1m339/339\u001b[0m \u001b[32m━━━━━━━━━━━━━━━━━━━━\u001b[0m\u001b[37m\u001b[0m \u001b[1m1141s\u001b[0m 3s/step - accuracy: 0.9854 - loss: 0.0433 - val_accuracy: 0.9878 - val_loss: 0.0409\n",
      "Epoch 8/10\n",
      "\u001b[1m  1/339\u001b[0m \u001b[37m━━━━━━━━━━━━━━━━━━━━\u001b[0m \u001b[1m15:30\u001b[0m 3s/step - accuracy: 0.9688 - loss: 0.0503\n",
      "Epoch 8: saving model to ./checkpoints_adamW\\model_checkpoint_lantana_epoch_08.h5\n"
     ]
    },
    {
     "name": "stderr",
     "output_type": "stream",
     "text": [
      "WARNING:absl:You are saving your model as an HDF5 file via `model.save()` or `keras.saving.save_model(model)`. This file format is considered legacy. We recommend using instead the native Keras format, e.g. `model.save('my_model.keras')` or `keras.saving.save_model(model, 'my_model.keras')`. \n"
     ]
    },
    {
     "name": "stdout",
     "output_type": "stream",
     "text": [
      "\u001b[1m339/339\u001b[0m \u001b[32m━━━━━━━━━━━━━━━━━━━━\u001b[0m\u001b[37m\u001b[0m \u001b[1m206s\u001b[0m 600ms/step - accuracy: 0.9688 - loss: 0.0503 - val_accuracy: 0.9878 - val_loss: 0.0415\n",
      "Epoch 9/10\n",
      "\u001b[1m339/339\u001b[0m \u001b[32m━━━━━━━━━━━━━━━━━━━━\u001b[0m\u001b[37m\u001b[0m \u001b[1m0s\u001b[0m 3s/step - accuracy: 0.9901 - loss: 0.0314\n",
      "Epoch 9: saving model to ./checkpoints_adamW\\model_checkpoint_lantana_epoch_09.h5\n"
     ]
    },
    {
     "name": "stderr",
     "output_type": "stream",
     "text": [
      "WARNING:absl:You are saving your model as an HDF5 file via `model.save()` or `keras.saving.save_model(model)`. This file format is considered legacy. We recommend using instead the native Keras format, e.g. `model.save('my_model.keras')` or `keras.saving.save_model(model, 'my_model.keras')`. \n"
     ]
    },
    {
     "name": "stdout",
     "output_type": "stream",
     "text": [
      "\u001b[1m339/339\u001b[0m \u001b[32m━━━━━━━━━━━━━━━━━━━━\u001b[0m\u001b[37m\u001b[0m \u001b[1m1150s\u001b[0m 3s/step - accuracy: 0.9901 - loss: 0.0314 - val_accuracy: 0.9918 - val_loss: 0.0338\n",
      "Epoch 10/10\n",
      "\u001b[1m  1/339\u001b[0m \u001b[37m━━━━━━━━━━━━━━━━━━━━\u001b[0m \u001b[1m15:01\u001b[0m 3s/step - accuracy: 1.0000 - loss: 0.0144\n",
      "Epoch 10: saving model to ./checkpoints_adamW\\model_checkpoint_lantana_epoch_10.h5\n"
     ]
    },
    {
     "name": "stderr",
     "output_type": "stream",
     "text": [
      "WARNING:absl:You are saving your model as an HDF5 file via `model.save()` or `keras.saving.save_model(model)`. This file format is considered legacy. We recommend using instead the native Keras format, e.g. `model.save('my_model.keras')` or `keras.saving.save_model(model, 'my_model.keras')`. \n"
     ]
    },
    {
     "name": "stdout",
     "output_type": "stream",
     "text": [
      "\u001b[1m339/339\u001b[0m \u001b[32m━━━━━━━━━━━━━━━━━━━━\u001b[0m\u001b[37m\u001b[0m \u001b[1m205s\u001b[0m 598ms/step - accuracy: 1.0000 - loss: 0.0144 - val_accuracy: 0.9887 - val_loss: 0.0338\n",
      "Starting Phase 2 (continuing from epoch 11)\n",
      "Epoch 11/15\n",
      "\u001b[1m339/339\u001b[0m \u001b[32m━━━━━━━━━━━━━━━━━━━━\u001b[0m\u001b[37m\u001b[0m \u001b[1m0s\u001b[0m 3s/step - accuracy: 0.9752 - loss: 0.0685\n",
      "Epoch 11: saving model to ./checkpoints_adamW\\model_checkpoint_lantana_epoch_11.h5\n"
     ]
    },
    {
     "name": "stderr",
     "output_type": "stream",
     "text": [
      "WARNING:absl:You are saving your model as an HDF5 file via `model.save()` or `keras.saving.save_model(model)`. This file format is considered legacy. We recommend using instead the native Keras format, e.g. `model.save('my_model.keras')` or `keras.saving.save_model(model, 'my_model.keras')`. \n"
     ]
    },
    {
     "name": "stdout",
     "output_type": "stream",
     "text": [
      "\u001b[1m339/339\u001b[0m \u001b[32m━━━━━━━━━━━━━━━━━━━━\u001b[0m\u001b[37m\u001b[0m \u001b[1m1290s\u001b[0m 4s/step - accuracy: 0.9753 - loss: 0.0685 - val_accuracy: 0.9857 - val_loss: 0.0356\n",
      "Epoch 12/15\n",
      "\u001b[1m  1/339\u001b[0m \u001b[37m━━━━━━━━━━━━━━━━━━━━\u001b[0m \u001b[1m16:46\u001b[0m 3s/step - accuracy: 1.0000 - loss: 0.0262\n",
      "Epoch 12: saving model to ./checkpoints_adamW\\model_checkpoint_lantana_epoch_12.h5\n"
     ]
    },
    {
     "name": "stderr",
     "output_type": "stream",
     "text": [
      "WARNING:absl:You are saving your model as an HDF5 file via `model.save()` or `keras.saving.save_model(model)`. This file format is considered legacy. We recommend using instead the native Keras format, e.g. `model.save('my_model.keras')` or `keras.saving.save_model(model, 'my_model.keras')`. \n"
     ]
    },
    {
     "name": "stdout",
     "output_type": "stream",
     "text": [
      "\u001b[1m339/339\u001b[0m \u001b[32m━━━━━━━━━━━━━━━━━━━━\u001b[0m\u001b[37m\u001b[0m \u001b[1m181s\u001b[0m 527ms/step - accuracy: 1.0000 - loss: 0.0262 - val_accuracy: 0.9848 - val_loss: 0.0364\n",
      "Epoch 13/15\n",
      "\u001b[1m339/339\u001b[0m \u001b[32m━━━━━━━━━━━━━━━━━━━━\u001b[0m\u001b[37m\u001b[0m \u001b[1m0s\u001b[0m 2s/step - accuracy: 0.9832 - loss: 0.0441\n",
      "Epoch 13: saving model to ./checkpoints_adamW\\model_checkpoint_lantana_epoch_13.h5\n"
     ]
    },
    {
     "name": "stderr",
     "output_type": "stream",
     "text": [
      "WARNING:absl:You are saving your model as an HDF5 file via `model.save()` or `keras.saving.save_model(model)`. This file format is considered legacy. We recommend using instead the native Keras format, e.g. `model.save('my_model.keras')` or `keras.saving.save_model(model, 'my_model.keras')`. \n"
     ]
    },
    {
     "name": "stdout",
     "output_type": "stream",
     "text": [
      "\u001b[1m339/339\u001b[0m \u001b[32m━━━━━━━━━━━━━━━━━━━━\u001b[0m\u001b[37m\u001b[0m \u001b[1m974s\u001b[0m 3s/step - accuracy: 0.9832 - loss: 0.0441 - val_accuracy: 0.9874 - val_loss: 0.0367\n",
      "Epoch 14/15\n",
      "\u001b[1m  1/339\u001b[0m \u001b[37m━━━━━━━━━━━━━━━━━━━━\u001b[0m \u001b[1m13:02\u001b[0m 2s/step - accuracy: 1.0000 - loss: 0.0207\n",
      "Epoch 14: saving model to ./checkpoints_adamW\\model_checkpoint_lantana_epoch_14.h5\n"
     ]
    },
    {
     "name": "stderr",
     "output_type": "stream",
     "text": [
      "WARNING:absl:You are saving your model as an HDF5 file via `model.save()` or `keras.saving.save_model(model)`. This file format is considered legacy. We recommend using instead the native Keras format, e.g. `model.save('my_model.keras')` or `keras.saving.save_model(model, 'my_model.keras')`. \n"
     ]
    },
    {
     "name": "stdout",
     "output_type": "stream",
     "text": [
      "\u001b[1m339/339\u001b[0m \u001b[32m━━━━━━━━━━━━━━━━━━━━\u001b[0m\u001b[37m\u001b[0m \u001b[1m151s\u001b[0m 439ms/step - accuracy: 1.0000 - loss: 0.0207 - val_accuracy: 0.9878 - val_loss: 0.0355\n",
      "Epoch 15/15\n",
      "\u001b[1m339/339\u001b[0m \u001b[32m━━━━━━━━━━━━━━━━━━━━\u001b[0m\u001b[37m\u001b[0m \u001b[1m0s\u001b[0m 2s/step - accuracy: 0.9826 - loss: 0.0452\n",
      "Epoch 15: saving model to ./checkpoints_adamW\\model_checkpoint_lantana_epoch_15.h5\n"
     ]
    },
    {
     "name": "stderr",
     "output_type": "stream",
     "text": [
      "WARNING:absl:You are saving your model as an HDF5 file via `model.save()` or `keras.saving.save_model(model)`. This file format is considered legacy. We recommend using instead the native Keras format, e.g. `model.save('my_model.keras')` or `keras.saving.save_model(model, 'my_model.keras')`. \n"
     ]
    },
    {
     "name": "stdout",
     "output_type": "stream",
     "text": [
      "\u001b[1m339/339\u001b[0m \u001b[32m━━━━━━━━━━━━━━━━━━━━\u001b[0m\u001b[37m\u001b[0m \u001b[1m955s\u001b[0m 3s/step - accuracy: 0.9826 - loss: 0.0452 - val_accuracy: 0.9883 - val_loss: 0.0296\n",
      "Starting Phase 3 (continuing from epoch 16)\n",
      "Epoch 16/20\n",
      "\u001b[1m339/339\u001b[0m \u001b[32m━━━━━━━━━━━━━━━━━━━━\u001b[0m\u001b[37m\u001b[0m \u001b[1m0s\u001b[0m 10s/step - accuracy: 0.9536 - loss: 0.1287\n",
      "Epoch 16: saving model to ./checkpoints_adamW\\model_checkpoint_lantana_epoch_16.h5\n"
     ]
    },
    {
     "name": "stderr",
     "output_type": "stream",
     "text": [
      "WARNING:absl:You are saving your model as an HDF5 file via `model.save()` or `keras.saving.save_model(model)`. This file format is considered legacy. We recommend using instead the native Keras format, e.g. `model.save('my_model.keras')` or `keras.saving.save_model(model, 'my_model.keras')`. \n"
     ]
    },
    {
     "name": "stdout",
     "output_type": "stream",
     "text": [
      "\u001b[1m339/339\u001b[0m \u001b[32m━━━━━━━━━━━━━━━━━━━━\u001b[0m\u001b[37m\u001b[0m \u001b[1m3530s\u001b[0m 10s/step - accuracy: 0.9537 - loss: 0.1286 - val_accuracy: 0.9774 - val_loss: 0.0668\n",
      "Epoch 17/20\n",
      "\u001b[1m  1/339\u001b[0m \u001b[37m━━━━━━━━━━━━━━━━━━━━\u001b[0m \u001b[1m52:58\u001b[0m 9s/step - accuracy: 0.9688 - loss: 0.0573\n",
      "Epoch 17: saving model to ./checkpoints_adamW\\model_checkpoint_lantana_epoch_17.h5\n"
     ]
    },
    {
     "name": "stderr",
     "output_type": "stream",
     "text": [
      "WARNING:absl:You are saving your model as an HDF5 file via `model.save()` or `keras.saving.save_model(model)`. This file format is considered legacy. We recommend using instead the native Keras format, e.g. `model.save('my_model.keras')` or `keras.saving.save_model(model, 'my_model.keras')`. \n"
     ]
    },
    {
     "name": "stdout",
     "output_type": "stream",
     "text": [
      "\u001b[1m339/339\u001b[0m \u001b[32m━━━━━━━━━━━━━━━━━━━━\u001b[0m\u001b[37m\u001b[0m \u001b[1m187s\u001b[0m 524ms/step - accuracy: 0.9688 - loss: 0.0573 - val_accuracy: 0.9761 - val_loss: 0.0695\n",
      "Epoch 18/20\n",
      "\u001b[1m339/339\u001b[0m \u001b[32m━━━━━━━━━━━━━━━━━━━━\u001b[0m\u001b[37m\u001b[0m \u001b[1m0s\u001b[0m 10s/step - accuracy: 0.9777 - loss: 0.0610\n",
      "Epoch 18: saving model to ./checkpoints_adamW\\model_checkpoint_lantana_epoch_18.h5\n"
     ]
    },
    {
     "name": "stderr",
     "output_type": "stream",
     "text": [
      "WARNING:absl:You are saving your model as an HDF5 file via `model.save()` or `keras.saving.save_model(model)`. This file format is considered legacy. We recommend using instead the native Keras format, e.g. `model.save('my_model.keras')` or `keras.saving.save_model(model, 'my_model.keras')`. \n"
     ]
    },
    {
     "name": "stdout",
     "output_type": "stream",
     "text": [
      "\u001b[1m339/339\u001b[0m \u001b[32m━━━━━━━━━━━━━━━━━━━━\u001b[0m\u001b[37m\u001b[0m \u001b[1m3432s\u001b[0m 10s/step - accuracy: 0.9777 - loss: 0.0610 - val_accuracy: 0.9822 - val_loss: 0.0450\n",
      "Epoch 19/20\n",
      "\u001b[1m  1/339\u001b[0m \u001b[37m━━━━━━━━━━━━━━━━━━━━\u001b[0m \u001b[1m53:14\u001b[0m 9s/step - accuracy: 1.0000 - loss: 0.0032\n",
      "Epoch 19: saving model to ./checkpoints_adamW\\model_checkpoint_lantana_epoch_19.h5\n"
     ]
    },
    {
     "name": "stderr",
     "output_type": "stream",
     "text": [
      "WARNING:absl:You are saving your model as an HDF5 file via `model.save()` or `keras.saving.save_model(model)`. This file format is considered legacy. We recommend using instead the native Keras format, e.g. `model.save('my_model.keras')` or `keras.saving.save_model(model, 'my_model.keras')`. \n"
     ]
    },
    {
     "name": "stdout",
     "output_type": "stream",
     "text": [
      "\u001b[1m339/339\u001b[0m \u001b[32m━━━━━━━━━━━━━━━━━━━━\u001b[0m\u001b[37m\u001b[0m \u001b[1m187s\u001b[0m 524ms/step - accuracy: 1.0000 - loss: 0.0032 - val_accuracy: 0.9835 - val_loss: 0.0398\n",
      "Epoch 20/20\n",
      "\u001b[1m339/339\u001b[0m \u001b[32m━━━━━━━━━━━━━━━━━━━━\u001b[0m\u001b[37m\u001b[0m \u001b[1m0s\u001b[0m 10s/step - accuracy: 0.9817 - loss: 0.0514\n",
      "Epoch 20: saving model to ./checkpoints_adamW\\model_checkpoint_lantana_epoch_20.h5\n"
     ]
    },
    {
     "name": "stderr",
     "output_type": "stream",
     "text": [
      "WARNING:absl:You are saving your model as an HDF5 file via `model.save()` or `keras.saving.save_model(model)`. This file format is considered legacy. We recommend using instead the native Keras format, e.g. `model.save('my_model.keras')` or `keras.saving.save_model(model, 'my_model.keras')`. \n"
     ]
    },
    {
     "name": "stdout",
     "output_type": "stream",
     "text": [
      "\u001b[1m339/339\u001b[0m \u001b[32m━━━━━━━━━━━━━━━━━━━━\u001b[0m\u001b[37m\u001b[0m \u001b[1m3458s\u001b[0m 10s/step - accuracy: 0.9817 - loss: 0.0514 - val_accuracy: 0.9926 - val_loss: 0.0247\n",
      "\u001b[1m73/73\u001b[0m \u001b[32m━━━━━━━━━━━━━━━━━━━━\u001b[0m\u001b[37m\u001b[0m \u001b[1m184s\u001b[0m 3s/step - accuracy: 0.9936 - loss: 0.0162\n",
      "\u001b[1m73/73\u001b[0m \u001b[32m━━━━━━━━━━━━━━━━━━━━\u001b[0m\u001b[37m\u001b[0m \u001b[1m175s\u001b[0m 2s/step - accuracy: 0.9903 - loss: 0.0307\n",
      "Test Loss (Hibiscus): 0.022593431174755096\n",
      "Test Accuracy (Hibiscus): 0.9909871220588684\n",
      "Validation Loss (Hibiscus): 0.02531866915524006\n",
      "Validation Accuracy (Hibiscus): 0.9922747015953064\n"
     ]
    }
   ],
   "source": [
    "import tensorflow as tf\n",
    "from tensorflow.keras.applications import VGG19, DenseNet121\n",
    "from tensorflow.keras.layers import Dense, GlobalAveragePooling2D, Concatenate, Input\n",
    "from tensorflow.keras.models import Model, load_model\n",
    "from tensorflow.keras.preprocessing.image import ImageDataGenerator\n",
    "from tensorflow.keras.callbacks import ModelCheckpoint\n",
    "from tensorflow.keras.optimizers import AdamW  # <-- Updated import\n",
    "import os\n",
    "import re\n",
    "\n",
    "# Dataset paths\n",
    "train_dir = 'C:/Users/HP/Desktop/lantana_images/lantana_images/train'\n",
    "test_dir = 'C:/Users/HP/Desktop/lantana_images/lantana_images/test'\n",
    "validation_dir = 'C:/Users/HP/Desktop/lantana_images/lantana_images/val'\n",
    "\n",
    "# Data augmentation for training data\n",
    "train_datagen = ImageDataGenerator(rescale=1./255)\n",
    "\n",
    "# Only rescaling for validation and test data\n",
    "val_test_datagen = ImageDataGenerator(rescale=1./255)\n",
    "\n",
    "# Load data from directories\n",
    "train_generator = train_datagen.flow_from_directory(\n",
    "    train_dir,\n",
    "    target_size=(224, 224),\n",
    "    batch_size=32,\n",
    "    class_mode='binary'\n",
    ")\n",
    "\n",
    "validation_generator = val_test_datagen.flow_from_directory(\n",
    "    validation_dir,\n",
    "    target_size=(224, 224),\n",
    "    batch_size=32,\n",
    "    class_mode='binary'\n",
    ")\n",
    "\n",
    "test_generator = val_test_datagen.flow_from_directory(\n",
    "    test_dir,\n",
    "    target_size=(224, 224),\n",
    "    batch_size=32,\n",
    "    class_mode='binary',\n",
    "    shuffle=False\n",
    ")\n",
    "\n",
    "# Define checkpoint path\n",
    "checkpoint_dir = \"./checkpoints_adamW\"\n",
    "os.makedirs(checkpoint_dir, exist_ok=True)\n",
    "checkpoint_path = os.path.join(checkpoint_dir, \"model_checkpoint_lantana_epoch_{epoch:02d}.h5\")\n",
    "\n",
    "# Load base models without the top layers\n",
    "input_tensor = Input(shape=(224, 224, 3))\n",
    "vgg19_base = VGG19(weights='imagenet', include_top=False, input_tensor=input_tensor)\n",
    "densenet_base = DenseNet121(weights='imagenet', include_top=False, input_tensor=input_tensor)\n",
    "\n",
    "# Freeze all base model layers initially\n",
    "for layer in vgg19_base.layers:\n",
    "    layer.trainable = False\n",
    "for layer in densenet_base.layers:\n",
    "    layer.trainable = False\n",
    "\n",
    "# Extract features\n",
    "vgg19_output = GlobalAveragePooling2D()(vgg19_base.output)\n",
    "densenet_output = GlobalAveragePooling2D()(densenet_base.output)\n",
    "\n",
    "# Concatenate features\n",
    "merged = Concatenate()([vgg19_output, densenet_output])\n",
    "merged = Dense(1024, activation='relu')(merged)\n",
    "predictions = Dense(1, activation='sigmoid')(merged)\n",
    "\n",
    "# Define final model\n",
    "model = Model(inputs=input_tensor, outputs=predictions)\n",
    "\n",
    "# Find latest checkpoint\n",
    "def get_latest_checkpoint():\n",
    "    checkpoint_files = [f for f in os.listdir(checkpoint_dir) if f.startswith(\"model_checkpoint_lantana_epoch\")]\n",
    "    if not checkpoint_files:\n",
    "        return None, 0\n",
    "    epochs_trained = [int(re.search(r'epoch_(\\d+)', f).group(1)) for f in checkpoint_files]\n",
    "    latest_epoch = max(epochs_trained)\n",
    "    latest_checkpoint = os.path.join(checkpoint_dir, f\"model_checkpoint_lantana_epoch_{latest_epoch:02d}.h5\")\n",
    "    return latest_checkpoint, latest_epoch\n",
    "\n",
    "latest_checkpoint, last_trained_epoch = get_latest_checkpoint()\n",
    "\n",
    "# Load the latest model checkpoint if available\n",
    "if latest_checkpoint and os.path.exists(latest_checkpoint):\n",
    "    print(f\"Resuming training from checkpoint: {latest_checkpoint}\")\n",
    "    model = load_model(latest_checkpoint)\n",
    "else:\n",
    "    print(\"No saved model found. Starting fresh.\")\n",
    "\n",
    "# ModelCheckpoint callback\n",
    "checkpoint_callback = ModelCheckpoint(\n",
    "    filepath=checkpoint_path,\n",
    "    save_best_only=False,\n",
    "    save_weights_only=False,\n",
    "    verbose=1\n",
    ")\n",
    "\n",
    "# Training Phases\n",
    "epochs_phase_1 = 10\n",
    "epochs_phase_2 = 5\n",
    "epochs_phase_3 = 5\n",
    "\n",
    "# Phase 1: Train top layers with AdamW\n",
    "if last_trained_epoch < epochs_phase_1:\n",
    "    print(f\"Starting Phase 1 (continuing from epoch {last_trained_epoch + 1})\")\n",
    "    model.compile(\n",
    "        optimizer=AdamW(learning_rate=1e-4, weight_decay=1e-4),\n",
    "        loss='binary_crossentropy',\n",
    "        metrics=['accuracy']\n",
    "    )\n",
    "    history1 = model.fit(\n",
    "        train_generator,\n",
    "        steps_per_epoch=train_generator.samples // train_generator.batch_size,\n",
    "        validation_data=validation_generator,\n",
    "        validation_steps=validation_generator.samples // validation_generator.batch_size,\n",
    "        initial_epoch=last_trained_epoch,\n",
    "        epochs=epochs_phase_1,\n",
    "        callbacks=[checkpoint_callback]\n",
    "    )\n",
    "    last_trained_epoch = epochs_phase_1\n",
    "\n",
    "# Phase 2: Unfreeze top 5 layers\n",
    "if last_trained_epoch < epochs_phase_1 + epochs_phase_2:\n",
    "    for layer in vgg19_base.layers[-5:]:\n",
    "        layer.trainable = True\n",
    "    for layer in densenet_base.layers[-5:]:\n",
    "        layer.trainable = True\n",
    "\n",
    "    model.compile(\n",
    "        optimizer=AdamW(learning_rate=1e-5, weight_decay=1e-4),\n",
    "        loss='binary_crossentropy',\n",
    "        metrics=['accuracy']\n",
    "    )\n",
    "    print(f\"Starting Phase 2 (continuing from epoch {last_trained_epoch + 1})\")\n",
    "    history2 = model.fit(\n",
    "        train_generator,\n",
    "        steps_per_epoch=train_generator.samples // train_generator.batch_size,\n",
    "        validation_data=validation_generator,\n",
    "        validation_steps=validation_generator.samples // validation_generator.batch_size,\n",
    "        initial_epoch=last_trained_epoch,\n",
    "        epochs=epochs_phase_1 + epochs_phase_2,\n",
    "        callbacks=[checkpoint_callback]\n",
    "    )\n",
    "    last_trained_epoch = epochs_phase_1 + epochs_phase_2\n",
    "\n",
    "# Phase 3: Unfreeze all layers for fine-tuning\n",
    "if last_trained_epoch < epochs_phase_1 + epochs_phase_2 + epochs_phase_3:\n",
    "    for layer in vgg19_base.layers:\n",
    "        layer.trainable = True\n",
    "    for layer in densenet_base.layers:\n",
    "        layer.trainable = True\n",
    "\n",
    "    model.compile(\n",
    "        optimizer=AdamW(learning_rate=1e-6, weight_decay=1e-4),\n",
    "        loss='binary_crossentropy',\n",
    "        metrics=['accuracy']\n",
    "    )\n",
    "    print(f\"Starting Phase 3 (continuing from epoch {last_trained_epoch + 1})\")\n",
    "    history3 = model.fit(\n",
    "        train_generator,\n",
    "        steps_per_epoch=train_generator.samples // train_generator.batch_size,\n",
    "        validation_data=validation_generator,\n",
    "        validation_steps=validation_generator.samples // validation_generator.batch_size,\n",
    "        initial_epoch=last_trained_epoch,\n",
    "        epochs=epochs_phase_1 + epochs_phase_2 + epochs_phase_3,\n",
    "        callbacks=[checkpoint_callback]\n",
    "    )\n",
    "\n",
    "# Final evaluation\n",
    "test_loss, test_accuracy = model.evaluate(test_generator)\n",
    "val_loss, val_accuracy = model.evaluate(validation_generator)\n",
    "\n",
    "print(f'Test Loss (Hibiscus): {test_loss}')\n",
    "print(f'Test Accuracy (Hibiscus): {test_accuracy}')\n",
    "print(f'Validation Loss (Hibiscus): {val_loss}')\n",
    "print(f'Validation Accuracy (Hibiscus): {val_accuracy}')\n",
    "\n"
   ]
  },
  {
   "cell_type": "code",
   "execution_count": null,
   "id": "3aa73737",
   "metadata": {},
   "outputs": [],
   "source": []
  }
 ],
 "metadata": {
  "kernelspec": {
   "display_name": "Python 3 (ipykernel)",
   "language": "python",
   "name": "python3"
  },
  "language_info": {
   "codemirror_mode": {
    "name": "ipython",
    "version": 3
   },
   "file_extension": ".py",
   "mimetype": "text/x-python",
   "name": "python",
   "nbconvert_exporter": "python",
   "pygments_lexer": "ipython3",
   "version": "3.11.5"
  }
 },
 "nbformat": 4,
 "nbformat_minor": 5
}
