{
 "cells": [
  {
   "cell_type": "code",
   "execution_count": 1,
   "id": "5a98c7ec-892d-4566-b304-58e5bf907855",
   "metadata": {},
   "outputs": [
    {
     "name": "stdout",
     "output_type": "stream",
     "text": [
      "Found 2224 images belonging to 2 classes.\n",
      "Found 478 images belonging to 2 classes.\n",
      "Found 479 images belonging to 2 classes.\n",
      "Resuming training from checkpoint: ./checkpoints_guava\\model_checkpoint_guava_epoch_17.h5\n"
     ]
    },
    {
     "name": "stderr",
     "output_type": "stream",
     "text": [
      "WARNING:absl:Compiled the loaded model, but the compiled metrics have yet to be built. `model.compile_metrics` will be empty until you train or evaluate the model.\n"
     ]
    },
    {
     "name": "stdout",
     "output_type": "stream",
     "text": [
      "Starting Phase 3 (continuing from epoch 18)\n",
      "Epoch 18/20\n"
     ]
    },
    {
     "name": "stderr",
     "output_type": "stream",
     "text": [
      "C:\\Users\\kavit\\anaconda3\\Lib\\site-packages\\keras\\src\\trainers\\data_adapters\\py_dataset_adapter.py:121: UserWarning: Your `PyDataset` class should call `super().__init__(**kwargs)` in its constructor. `**kwargs` can include `workers`, `use_multiprocessing`, `max_queue_size`. Do not pass these arguments to `fit()`, as they will be ignored.\n",
      "  self._warn_if_super_not_called()\n"
     ]
    },
    {
     "name": "stdout",
     "output_type": "stream",
     "text": [
      "\u001b[1m69/69\u001b[0m \u001b[32m━━━━━━━━━━━━━━━━━━━━\u001b[0m\u001b[37m\u001b[0m \u001b[1m0s\u001b[0m 9s/step - accuracy: 0.9879 - loss: 0.0561\n",
      "Epoch 18: saving model to ./checkpoints_guava\\model_checkpoint_guava_epoch_18.h5\n"
     ]
    },
    {
     "name": "stderr",
     "output_type": "stream",
     "text": [
      "WARNING:absl:You are saving your model as an HDF5 file via `model.save()` or `keras.saving.save_model(model)`. This file format is considered legacy. We recommend using instead the native Keras format, e.g. `model.save('my_model.keras')` or `keras.saving.save_model(model, 'my_model.keras')`. \n"
     ]
    },
    {
     "name": "stdout",
     "output_type": "stream",
     "text": [
      "\u001b[1m69/69\u001b[0m \u001b[32m━━━━━━━━━━━━━━━━━━━━\u001b[0m\u001b[37m\u001b[0m \u001b[1m792s\u001b[0m 11s/step - accuracy: 0.9879 - loss: 0.0562 - val_accuracy: 0.9754 - val_loss: 0.0872\n",
      "Epoch 19/20\n",
      "\u001b[1m 1/69\u001b[0m \u001b[37m━━━━━━━━━━━━━━━━━━━━\u001b[0m \u001b[1m11:08\u001b[0m 10s/step - accuracy: 0.9688 - loss: 0.0840"
     ]
    },
    {
     "name": "stderr",
     "output_type": "stream",
     "text": [
      "C:\\Users\\kavit\\anaconda3\\Lib\\site-packages\\keras\\src\\trainers\\epoch_iterator.py:107: UserWarning: Your input ran out of data; interrupting training. Make sure that your dataset or generator can generate at least `steps_per_epoch * epochs` batches. You may need to use the `.repeat()` function when building your dataset.\n",
      "  self._interrupted_warning()\n"
     ]
    },
    {
     "name": "stdout",
     "output_type": "stream",
     "text": [
      "\n",
      "Epoch 19: saving model to ./checkpoints_guava\\model_checkpoint_guava_epoch_19.h5\n"
     ]
    },
    {
     "name": "stderr",
     "output_type": "stream",
     "text": [
      "WARNING:absl:You are saving your model as an HDF5 file via `model.save()` or `keras.saving.save_model(model)`. This file format is considered legacy. We recommend using instead the native Keras format, e.g. `model.save('my_model.keras')` or `keras.saving.save_model(model, 'my_model.keras')`. \n"
     ]
    },
    {
     "name": "stdout",
     "output_type": "stream",
     "text": [
      "\u001b[1m69/69\u001b[0m \u001b[32m━━━━━━━━━━━━━━━━━━━━\u001b[0m\u001b[37m\u001b[0m \u001b[1m149s\u001b[0m 2s/step - accuracy: 0.9688 - loss: 0.0840 - val_accuracy: 0.9799 - val_loss: 0.0816\n",
      "Epoch 20/20\n",
      "\u001b[1m69/69\u001b[0m \u001b[32m━━━━━━━━━━━━━━━━━━━━\u001b[0m\u001b[37m\u001b[0m \u001b[1m0s\u001b[0m 5s/step - accuracy: 0.9824 - loss: 0.0684\n",
      "Epoch 20: saving model to ./checkpoints_guava\\model_checkpoint_guava_epoch_20.h5\n"
     ]
    },
    {
     "name": "stderr",
     "output_type": "stream",
     "text": [
      "WARNING:absl:You are saving your model as an HDF5 file via `model.save()` or `keras.saving.save_model(model)`. This file format is considered legacy. We recommend using instead the native Keras format, e.g. `model.save('my_model.keras')` or `keras.saving.save_model(model, 'my_model.keras')`. \n"
     ]
    },
    {
     "name": "stdout",
     "output_type": "stream",
     "text": [
      "\u001b[1m69/69\u001b[0m \u001b[32m━━━━━━━━━━━━━━━━━━━━\u001b[0m\u001b[37m\u001b[0m \u001b[1m441s\u001b[0m 6s/step - accuracy: 0.9824 - loss: 0.0683 - val_accuracy: 0.9799 - val_loss: 0.0797\n",
      "\u001b[1m15/15\u001b[0m \u001b[32m━━━━━━━━━━━━━━━━━━━━\u001b[0m\u001b[37m\u001b[0m \u001b[1m73s\u001b[0m 5s/step - accuracy: 0.9876 - loss: 0.0699\n",
      "\u001b[1m15/15\u001b[0m \u001b[32m━━━━━━━━━━━━━━━━━━━━\u001b[0m\u001b[37m\u001b[0m \u001b[1m73s\u001b[0m 5s/step - accuracy: 0.9729 - loss: 0.0884\n",
      "Test Loss (Guava): 0.0858822911977768\n",
      "Test Accuracy (Guava): 0.9770354628562927\n",
      "Validation Loss (Guava): 0.08687326312065125\n",
      "Validation Accuracy (Guava): 0.9748954176902771\n"
     ]
    }
   ],
   "source": [
    "import tensorflow as tf\n",
    "from tensorflow.keras.applications import VGG19, DenseNet121\n",
    "from tensorflow.keras.layers import Dense, GlobalAveragePooling2D, Concatenate, Input\n",
    "from tensorflow.keras.models import Model, load_model\n",
    "from tensorflow.keras.optimizers import Adam\n",
    "from tensorflow.keras.preprocessing.image import ImageDataGenerator\n",
    "from tensorflow.keras.callbacks import ModelCheckpoint\n",
    "import os\n",
    "import re\n",
    "\n",
    "# Updated dataset paths for guava\n",
    "train_dir = './images/train'\n",
    "test_dir = './images/test'\n",
    "validation_dir = './images/val'\n",
    "\n",
    "# Data augmentation for training data\n",
    "train_datagen = ImageDataGenerator(rescale=1./255)\n",
    "\n",
    "# Only rescaling for validation and test data\n",
    "val_test_datagen = ImageDataGenerator(rescale=1./255)\n",
    "\n",
    "# Load data from directories\n",
    "train_generator = train_datagen.flow_from_directory(\n",
    "    train_dir,\n",
    "    target_size=(224, 224),\n",
    "    batch_size=32,\n",
    "    class_mode='binary'\n",
    ")\n",
    "\n",
    "validation_generator = val_test_datagen.flow_from_directory(\n",
    "    validation_dir,\n",
    "    target_size=(224, 224),\n",
    "    batch_size=32,\n",
    "    class_mode='binary'\n",
    ")\n",
    "\n",
    "test_generator = val_test_datagen.flow_from_directory(\n",
    "    test_dir,\n",
    "    target_size=(224, 224),\n",
    "    batch_size=32,\n",
    "    class_mode='binary',\n",
    "    shuffle=False\n",
    ")\n",
    "\n",
    "# Define checkpoint path for guava\n",
    "checkpoint_dir = \"./checkpoints_guava\"\n",
    "os.makedirs(checkpoint_dir, exist_ok=True)\n",
    "checkpoint_path = os.path.join(checkpoint_dir, \"model_checkpoint_guava_epoch_{epoch:02d}.h5\")\n",
    "\n",
    "# Load base models without the top layers\n",
    "input_tensor = Input(shape=(224, 224, 3))\n",
    "vgg19_base = VGG19(weights='imagenet', include_top=False, input_tensor=input_tensor)\n",
    "densenet_base = DenseNet121(weights='imagenet', include_top=False, input_tensor=input_tensor)\n",
    "\n",
    "# Freeze all base model layers initially\n",
    "for layer in vgg19_base.layers:\n",
    "    layer.trainable = False\n",
    "for layer in densenet_base.layers:\n",
    "    layer.trainable = False\n",
    "\n",
    "# Extract features\n",
    "vgg19_output = GlobalAveragePooling2D()(vgg19_base.output)\n",
    "densenet_output = GlobalAveragePooling2D()(densenet_base.output)\n",
    "\n",
    "# Concatenate features\n",
    "merged = Concatenate()([vgg19_output, densenet_output])\n",
    "merged = Dense(1024, activation='relu')(merged)\n",
    "predictions = Dense(1, activation='sigmoid')(merged)\n",
    "\n",
    "# Define final model\n",
    "model = Model(inputs=input_tensor, outputs=predictions)\n",
    "\n",
    "# Find latest checkpoint for guava\n",
    "def get_latest_checkpoint():\n",
    "    checkpoint_files = [f for f in os.listdir(checkpoint_dir) if f.startswith(\"model_checkpoint_guava_epoch\")]\n",
    "    if not checkpoint_files:\n",
    "        return None, 0\n",
    "\n",
    "    # Extract epoch numbers\n",
    "    epochs_trained = [int(re.search(r'epoch_(\\d+)', f).group(1)) for f in checkpoint_files]\n",
    "    latest_epoch = max(epochs_trained)\n",
    "    latest_checkpoint = os.path.join(checkpoint_dir, f\"model_checkpoint_guava_epoch_{latest_epoch:02d}.h5\")\n",
    "    return latest_checkpoint, latest_epoch\n",
    "\n",
    "latest_checkpoint, last_trained_epoch = get_latest_checkpoint()\n",
    "\n",
    "# Load the latest model checkpoint if available\n",
    "if latest_checkpoint and os.path.exists(latest_checkpoint):\n",
    "    print(f\"Resuming training from checkpoint: {latest_checkpoint}\")\n",
    "    model = load_model(latest_checkpoint)\n",
    "else:\n",
    "    print(\"No saved model found. Starting fresh.\")\n",
    "\n",
    "# Compile model\n",
    "model.compile(\n",
    "    optimizer=Adam(learning_rate=0.0001),\n",
    "    loss='binary_crossentropy',\n",
    "    metrics=['accuracy']\n",
    ")\n",
    "\n",
    "# ModelCheckpoint callback for guava\n",
    "checkpoint_callback = ModelCheckpoint(\n",
    "    filepath=checkpoint_path,\n",
    "    save_best_only=False,\n",
    "    save_weights_only=False,\n",
    "    verbose=1\n",
    ")\n",
    "\n",
    "# Training Phases\n",
    "epochs_phase_1 = 10\n",
    "epochs_phase_2 = 5\n",
    "epochs_phase_3 = 5\n",
    "\n",
    "# Determine phase and continue training\n",
    "if last_trained_epoch < epochs_phase_1:\n",
    "    print(f\"Starting Phase 1 (continuing from epoch {last_trained_epoch + 1})\")\n",
    "    history1 = model.fit(\n",
    "        train_generator,\n",
    "        steps_per_epoch=train_generator.samples // train_generator.batch_size,\n",
    "        validation_data=validation_generator,\n",
    "        validation_steps=validation_generator.samples // validation_generator.batch_size,\n",
    "        initial_epoch=last_trained_epoch,\n",
    "        epochs=epochs_phase_1,\n",
    "        callbacks=[checkpoint_callback]\n",
    "    )\n",
    "    last_trained_epoch = epochs_phase_1\n",
    "\n",
    "# Unfreeze top 5 layers and continue training\n",
    "if last_trained_epoch < epochs_phase_1 + epochs_phase_2:\n",
    "    for layer in vgg19_base.layers[-5:]:\n",
    "        layer.trainable = True\n",
    "    for layer in densenet_base.layers[-5:]:\n",
    "        layer.trainable = True\n",
    "\n",
    "    model.compile(\n",
    "        optimizer=Adam(learning_rate=1e-5),\n",
    "        loss='binary_crossentropy',\n",
    "        metrics=['accuracy']\n",
    "    )\n",
    "\n",
    "    print(f\"Starting Phase 2 (continuing from epoch {last_trained_epoch + 1})\")\n",
    "    history2 = model.fit(\n",
    "        train_generator,\n",
    "        steps_per_epoch=train_generator.samples // train_generator.batch_size,\n",
    "        validation_data=validation_generator,\n",
    "        validation_steps=validation_generator.samples // validation_generator.batch_size,\n",
    "        initial_epoch=last_trained_epoch,\n",
    "        epochs=epochs_phase_1 + epochs_phase_2,\n",
    "        callbacks=[checkpoint_callback]\n",
    "    )\n",
    "    last_trained_epoch = epochs_phase_1 + epochs_phase_2\n",
    "\n",
    "# Unfreeze all layers and fine-tune\n",
    "if last_trained_epoch < epochs_phase_1 + epochs_phase_2 + epochs_phase_3:\n",
    "    for layer in vgg19_base.layers:\n",
    "        layer.trainable = True\n",
    "    for layer in densenet_base.layers:\n",
    "        layer.trainable = True\n",
    "\n",
    "    model.compile(\n",
    "        optimizer=Adam(learning_rate=1e-6),\n",
    "        loss='binary_crossentropy',\n",
    "        metrics=['accuracy']\n",
    "    )\n",
    "\n",
    "    print(f\"Starting Phase 3 (continuing from epoch {last_trained_epoch + 1})\")\n",
    "    history3 = model.fit(\n",
    "        train_generator,\n",
    "        steps_per_epoch=train_generator.samples // train_generator.batch_size,\n",
    "        validation_data=validation_generator,\n",
    "        validation_steps=validation_generator.samples // validation_generator.batch_size,\n",
    "        initial_epoch=last_trained_epoch,\n",
    "        epochs=epochs_phase_1 + epochs_phase_2 + epochs_phase_3,\n",
    "        callbacks=[checkpoint_callback]\n",
    "    )\n",
    "\n",
    "# Evaluate model\n",
    "test_loss, test_accuracy = model.evaluate(test_generator)\n",
    "val_loss, val_accuracy = model.evaluate(validation_generator)\n",
    "\n",
    "print(f'Test Loss (Guava): {test_loss}')\n",
    "print(f'Test Accuracy (Guava): {test_accuracy}')\n",
    "print(f'Validation Loss (Guava): {val_loss}')\n",
    "print(f'Validation Accuracy (Guava): {val_accuracy}')"
   ]
  },
  {
   "cell_type": "code",
   "execution_count": null,
   "id": "c6dc13b5-778e-4d57-b8d5-a0045a588d6a",
   "metadata": {},
   "outputs": [],
   "source": []
  }
 ],
 "metadata": {
  "kernelspec": {
   "display_name": "Python 3 (ipykernel)",
   "language": "python",
   "name": "python3"
  },
  "language_info": {
   "codemirror_mode": {
    "name": "ipython",
    "version": 3
   },
   "file_extension": ".py",
   "mimetype": "text/x-python",
   "name": "python",
   "nbconvert_exporter": "python",
   "pygments_lexer": "ipython3",
   "version": "3.11.7"
  }
 },
 "nbformat": 4,
 "nbformat_minor": 5
}
