{
 "cells": [
  {
   "cell_type": "code",
   "execution_count": 1,
   "id": "3c2f7ee7-1d88-4a2a-902e-104d731202e5",
   "metadata": {},
   "outputs": [
    {
     "name": "stdout",
     "output_type": "stream",
     "text": [
      "Found 2054 images belonging to 2 classes.\n",
      "Found 441 images belonging to 2 classes.\n",
      "Found 441 images belonging to 2 classes.\n"
     ]
    },
    {
     "name": "stderr",
     "output_type": "stream",
     "text": [
      "C:\\Users\\kavit\\anaconda3\\Lib\\site-packages\\keras\\src\\trainers\\data_adapters\\py_dataset_adapter.py:121: UserWarning: Your `PyDataset` class should call `super().__init__(**kwargs)` in its constructor. `**kwargs` can include `workers`, `use_multiprocessing`, `max_queue_size`. Do not pass these arguments to `fit()`, as they will be ignored.\n",
      "  self._warn_if_super_not_called()\n"
     ]
    },
    {
     "name": "stdout",
     "output_type": "stream",
     "text": [
      "Epoch 1/15\n",
      "\u001b[1m64/64\u001b[0m \u001b[32m━━━━━━━━━━━━━━━━━━━━\u001b[0m\u001b[37m\u001b[0m \u001b[1m1170s\u001b[0m 18s/step - accuracy: 0.7991 - loss: 0.4833 - val_accuracy: 0.9591 - val_loss: 0.1925\n",
      "Epoch 2/15\n",
      "\u001b[1m 1/64\u001b[0m \u001b[37m━━━━━━━━━━━━━━━━━━━━\u001b[0m \u001b[1m15:17\u001b[0m 15s/step - accuracy: 0.9375 - loss: 0.2055"
     ]
    },
    {
     "name": "stderr",
     "output_type": "stream",
     "text": [
      "C:\\Users\\kavit\\anaconda3\\Lib\\site-packages\\keras\\src\\trainers\\epoch_iterator.py:107: UserWarning: Your input ran out of data; interrupting training. Make sure that your dataset or generator can generate at least `steps_per_epoch * epochs` batches. You may need to use the `.repeat()` function when building your dataset.\n",
      "  self._interrupted_warning()\n"
     ]
    },
    {
     "name": "stdout",
     "output_type": "stream",
     "text": [
      "\u001b[1m64/64\u001b[0m \u001b[32m━━━━━━━━━━━━━━━━━━━━\u001b[0m\u001b[37m\u001b[0m \u001b[1m204s\u001b[0m 3s/step - accuracy: 0.9375 - loss: 0.2055 - val_accuracy: 0.9567 - val_loss: 0.1957\n",
      "Epoch 3/15\n",
      "\u001b[1m64/64\u001b[0m \u001b[32m━━━━━━━━━━━━━━━━━━━━\u001b[0m\u001b[37m\u001b[0m \u001b[1m1120s\u001b[0m 18s/step - accuracy: 0.9670 - loss: 0.1595 - val_accuracy: 0.9760 - val_loss: 0.1130\n",
      "Epoch 4/15\n",
      "\u001b[1m64/64\u001b[0m \u001b[32m━━━━━━━━━━━━━━━━━━━━\u001b[0m\u001b[37m\u001b[0m \u001b[1m206s\u001b[0m 3s/step - accuracy: 1.0000 - loss: 0.0948 - val_accuracy: 0.9760 - val_loss: 0.1124\n",
      "Epoch 5/15\n",
      "\u001b[1m64/64\u001b[0m \u001b[32m━━━━━━━━━━━━━━━━━━━━\u001b[0m\u001b[37m\u001b[0m \u001b[1m1107s\u001b[0m 17s/step - accuracy: 0.9807 - loss: 0.1026 - val_accuracy: 0.9856 - val_loss: 0.0904\n",
      "Epoch 6/15\n",
      "\u001b[1m64/64\u001b[0m \u001b[32m━━━━━━━━━━━━━━━━━━━━\u001b[0m\u001b[37m\u001b[0m \u001b[1m204s\u001b[0m 3s/step - accuracy: 1.0000 - loss: 0.0577 - val_accuracy: 0.9856 - val_loss: 0.0834\n",
      "Epoch 7/15\n",
      "\u001b[1m64/64\u001b[0m \u001b[32m━━━━━━━━━━━━━━━━━━━━\u001b[0m\u001b[37m\u001b[0m \u001b[1m1114s\u001b[0m 17s/step - accuracy: 0.9917 - loss: 0.0674 - val_accuracy: 0.9832 - val_loss: 0.0728\n",
      "Epoch 8/15\n",
      "\u001b[1m64/64\u001b[0m \u001b[32m━━━━━━━━━━━━━━━━━━━━\u001b[0m\u001b[37m\u001b[0m \u001b[1m204s\u001b[0m 3s/step - accuracy: 1.0000 - loss: 0.0418 - val_accuracy: 0.9832 - val_loss: 0.0705\n",
      "Epoch 9/15\n",
      "\u001b[1m64/64\u001b[0m \u001b[32m━━━━━━━━━━━━━━━━━━━━\u001b[0m\u001b[37m\u001b[0m \u001b[1m1113s\u001b[0m 17s/step - accuracy: 0.9927 - loss: 0.0585 - val_accuracy: 0.9880 - val_loss: 0.0584\n",
      "Epoch 10/15\n",
      "\u001b[1m64/64\u001b[0m \u001b[32m━━━━━━━━━━━━━━━━━━━━\u001b[0m\u001b[37m\u001b[0m \u001b[1m207s\u001b[0m 3s/step - accuracy: 0.9688 - loss: 0.0673 - val_accuracy: 0.9856 - val_loss: 0.0581\n",
      "Epoch 11/15\n",
      "\u001b[1m64/64\u001b[0m \u001b[32m━━━━━━━━━━━━━━━━━━━━\u001b[0m\u001b[37m\u001b[0m \u001b[1m1108s\u001b[0m 17s/step - accuracy: 0.9958 - loss: 0.0436 - val_accuracy: 0.9880 - val_loss: 0.0510\n",
      "Epoch 12/15\n",
      "\u001b[1m64/64\u001b[0m \u001b[32m━━━━━━━━━━━━━━━━━━━━\u001b[0m\u001b[37m\u001b[0m \u001b[1m203s\u001b[0m 3s/step - accuracy: 1.0000 - loss: 0.0846 - val_accuracy: 0.9880 - val_loss: 0.0527\n",
      "Epoch 13/15\n",
      "\u001b[1m64/64\u001b[0m \u001b[32m━━━━━━━━━━━━━━━━━━━━\u001b[0m\u001b[37m\u001b[0m \u001b[1m1107s\u001b[0m 17s/step - accuracy: 0.9942 - loss: 0.0390 - val_accuracy: 0.9880 - val_loss: 0.0437\n",
      "Epoch 14/15\n",
      "\u001b[1m64/64\u001b[0m \u001b[32m━━━━━━━━━━━━━━━━━━━━\u001b[0m\u001b[37m\u001b[0m \u001b[1m206s\u001b[0m 3s/step - accuracy: 1.0000 - loss: 0.0171 - val_accuracy: 0.9904 - val_loss: 0.0444\n",
      "Epoch 15/15\n",
      "\u001b[1m64/64\u001b[0m \u001b[32m━━━━━━━━━━━━━━━━━━━━\u001b[0m\u001b[37m\u001b[0m \u001b[1m1109s\u001b[0m 17s/step - accuracy: 0.9970 - loss: 0.0328 - val_accuracy: 0.9880 - val_loss: 0.0440\n",
      "\u001b[1m14/14\u001b[0m \u001b[32m━━━━━━━━━━━━━━━━━━━━\u001b[0m\u001b[37m\u001b[0m \u001b[1m201s\u001b[0m 14s/step - accuracy: 0.9869 - loss: 0.0549\n",
      "Test Loss: 0.04830969497561455\n",
      "Test Accuracy: 0.9863945841789246\n",
      "\u001b[1m14/14\u001b[0m \u001b[32m━━━━━━━━━━━━━━━━━━━━\u001b[0m\u001b[37m\u001b[0m \u001b[1m201s\u001b[0m 14s/step - accuracy: 0.9863 - loss: 0.0454\n",
      "Test Loss: 0.04830969497561455\n",
      "Test Accuracy: 0.9863945841789246\n",
      "Validation Loss: 0.045425135642290115\n",
      "Validation Accuracy: 0.9863945841789246\n"
     ]
    }
   ],
   "source": [
    "import tensorflow as tf\n",
    "from tensorflow.keras.applications import VGG19, DenseNet121\n",
    "from tensorflow.keras.layers import Dense, GlobalAveragePooling2D, Concatenate, Input\n",
    "from tensorflow.keras.models import Model\n",
    "from tensorflow.keras.optimizers import Adam\n",
    "from tensorflow.keras.preprocessing.image import ImageDataGenerator\n",
    "\n",
    "train_dir = './images_rose/train'\n",
    "test_dir = './images_rose/test'\n",
    "validation_dir = './images_rose/val'\n",
    "\n",
    "# Data augmentation for training data\n",
    "train_datagen = ImageDataGenerator(rescale=1./255)\n",
    "\n",
    "# Only rescaling for validation and test data\n",
    "val_test_datagen = ImageDataGenerator(rescale=1./255)\n",
    "\n",
    "# Load data from directories\n",
    "train_generator = train_datagen.flow_from_directory(\n",
    "    train_dir,\n",
    "    target_size=(224, 224),\n",
    "    batch_size=32,\n",
    "    class_mode='binary'\n",
    ")\n",
    "\n",
    "validation_generator = val_test_datagen.flow_from_directory(\n",
    "    validation_dir,\n",
    "    target_size=(224, 224),\n",
    "    batch_size=32,\n",
    "    class_mode='binary'\n",
    ")\n",
    "\n",
    "test_generator = val_test_datagen.flow_from_directory(\n",
    "    test_dir,\n",
    "    target_size=(224, 224),\n",
    "    batch_size=32,\n",
    "    class_mode='binary',\n",
    "    shuffle=False\n",
    ")\n",
    "\n",
    "# Load base models without the top layers\n",
    "input_tensor = Input(shape=(224, 224, 3))\n",
    "vgg19_base = VGG19(weights='imagenet', include_top=False, input_tensor=input_tensor)\n",
    "densenet_base = DenseNet121(weights='imagenet', include_top=False, input_tensor=input_tensor)\n",
    "\n",
    "# Freeze base model layers\n",
    "for layer in vgg19_base.layers:\n",
    "    layer.trainable = False\n",
    "for layer in densenet_base.layers:\n",
    "    layer.trainable = False\n",
    "\n",
    "# Extract features\n",
    "vgg19_output = GlobalAveragePooling2D()(vgg19_base.output)\n",
    "densenet_output = GlobalAveragePooling2D()(densenet_base.output)\n",
    "\n",
    "# Concatenate features\n",
    "merged = Concatenate()([vgg19_output, densenet_output])\n",
    "merged = Dense(1024, activation='relu')(merged)\n",
    "predictions = Dense(1, activation='sigmoid')(merged)\n",
    "\n",
    "# Define final model\n",
    "model = Model(inputs=input_tensor, outputs=predictions)\n",
    "model.compile(\n",
    "    optimizer=Adam(learning_rate=0.0001),\n",
    "    loss='binary_crossentropy',\n",
    "    metrics=['accuracy']\n",
    ")\n",
    "\n",
    "history = model.fit(\n",
    "    train_generator,\n",
    "    steps_per_epoch=train_generator.samples // train_generator.batch_size,\n",
    "    validation_data=validation_generator,\n",
    "    validation_steps=validation_generator.samples // validation_generator.batch_size,\n",
    "    epochs=15\n",
    ")\n",
    "\n",
    "test_loss, test_accuracy = model.evaluate(test_generator)\n",
    "print(f'Test Loss: {test_loss}')\n",
    "print(f'Test Accuracy: {test_accuracy}')\n",
    "val_loss, val_accuracy = model.evaluate(validation_generator)\n",
    "print(f'Test Loss: {test_loss}')\n",
    "print(f'Test Accuracy: {test_accuracy}')\n",
    "print(f'Validation Loss: {val_loss}')\n",
    "print(f'Validation Accuracy: {val_accuracy}')"
   ]
  },
  {
   "cell_type": "code",
   "execution_count": null,
   "id": "fe1ddd2f-7afc-4757-a95c-30ea586731fd",
   "metadata": {},
   "outputs": [],
   "source": []
  }
 ],
 "metadata": {
  "kernelspec": {
   "display_name": "Python 3 (ipykernel)",
   "language": "python",
   "name": "python3"
  },
  "language_info": {
   "codemirror_mode": {
    "name": "ipython",
    "version": 3
   },
   "file_extension": ".py",
   "mimetype": "text/x-python",
   "name": "python",
   "nbconvert_exporter": "python",
   "pygments_lexer": "ipython3",
   "version": "3.11.7"
  }
 },
 "nbformat": 4,
 "nbformat_minor": 5
}
