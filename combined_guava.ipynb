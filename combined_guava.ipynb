{
 "cells": [
  {
   "cell_type": "code",
   "execution_count": 2,
   "id": "fd55c633-abf1-43c9-81f5-87a661894734",
   "metadata": {},
   "outputs": [
    {
     "name": "stdout",
     "output_type": "stream",
     "text": [
      "Found 2224 images belonging to 2 classes.\n",
      "Found 478 images belonging to 2 classes.\n",
      "Found 479 images belonging to 2 classes.\n",
      "Downloading data from https://storage.googleapis.com/tensorflow/keras-applications/densenet/densenet121_weights_tf_dim_ordering_tf_kernels_notop.h5\n",
      "\u001b[1m29084464/29084464\u001b[0m \u001b[32m━━━━━━━━━━━━━━━━━━━━\u001b[0m\u001b[37m\u001b[0m \u001b[1m7s\u001b[0m 0us/step\n"
     ]
    },
    {
     "name": "stderr",
     "output_type": "stream",
     "text": [
      "C:\\Users\\kavit\\anaconda3\\Lib\\site-packages\\keras\\src\\trainers\\data_adapters\\py_dataset_adapter.py:121: UserWarning: Your `PyDataset` class should call `super().__init__(**kwargs)` in its constructor. `**kwargs` can include `workers`, `use_multiprocessing`, `max_queue_size`. Do not pass these arguments to `fit()`, as they will be ignored.\n",
      "  self._warn_if_super_not_called()\n"
     ]
    },
    {
     "name": "stdout",
     "output_type": "stream",
     "text": [
      "Epoch 1/15\n",
      "\u001b[1m69/69\u001b[0m \u001b[32m━━━━━━━━━━━━━━━━━━━━\u001b[0m\u001b[37m\u001b[0m \u001b[1m1008s\u001b[0m 15s/step - accuracy: 0.7809 - loss: 0.4688 - val_accuracy: 0.9420 - val_loss: 0.2140\n",
      "Epoch 2/15\n",
      "\u001b[1m 1/69\u001b[0m \u001b[37m━━━━━━━━━━━━━━━━━━━━\u001b[0m \u001b[1m16:24\u001b[0m 14s/step - accuracy: 0.9688 - loss: 0.1755"
     ]
    },
    {
     "name": "stderr",
     "output_type": "stream",
     "text": [
      "C:\\Users\\kavit\\anaconda3\\Lib\\site-packages\\keras\\src\\trainers\\epoch_iterator.py:107: UserWarning: Your input ran out of data; interrupting training. Make sure that your dataset or generator can generate at least `steps_per_epoch * epochs` batches. You may need to use the `.repeat()` function when building your dataset.\n",
      "  self._interrupted_warning()\n"
     ]
    },
    {
     "name": "stdout",
     "output_type": "stream",
     "text": [
      "\u001b[1m69/69\u001b[0m \u001b[32m━━━━━━━━━━━━━━━━━━━━\u001b[0m\u001b[37m\u001b[0m \u001b[1m190s\u001b[0m 3s/step - accuracy: 0.9688 - loss: 0.1755 - val_accuracy: 0.9487 - val_loss: 0.2091\n",
      "Epoch 3/15\n",
      "\u001b[1m69/69\u001b[0m \u001b[32m━━━━━━━━━━━━━━━━━━━━\u001b[0m\u001b[37m\u001b[0m \u001b[1m1211s\u001b[0m 18s/step - accuracy: 0.9437 - loss: 0.1825 - val_accuracy: 0.9598 - val_loss: 0.1488\n",
      "Epoch 4/15\n",
      "\u001b[1m69/69\u001b[0m \u001b[32m━━━━━━━━━━━━━━━━━━━━\u001b[0m\u001b[37m\u001b[0m \u001b[1m220s\u001b[0m 3s/step - accuracy: 0.9062 - loss: 0.1604 - val_accuracy: 0.9598 - val_loss: 0.1478\n",
      "Epoch 5/15\n",
      "\u001b[1m69/69\u001b[0m \u001b[32m━━━━━━━━━━━━━━━━━━━━\u001b[0m\u001b[37m\u001b[0m \u001b[1m1210s\u001b[0m 18s/step - accuracy: 0.9669 - loss: 0.1228 - val_accuracy: 0.9688 - val_loss: 0.1205\n",
      "Epoch 6/15\n",
      "\u001b[1m69/69\u001b[0m \u001b[32m━━━━━━━━━━━━━━━━━━━━\u001b[0m\u001b[37m\u001b[0m \u001b[1m210s\u001b[0m 3s/step - accuracy: 1.0000 - loss: 0.0631 - val_accuracy: 0.9598 - val_loss: 0.1251\n",
      "Epoch 7/15\n",
      "\u001b[1m69/69\u001b[0m \u001b[32m━━━━━━━━━━━━━━━━━━━━\u001b[0m\u001b[37m\u001b[0m \u001b[1m1203s\u001b[0m 17s/step - accuracy: 0.9663 - loss: 0.1124 - val_accuracy: 0.9665 - val_loss: 0.1114\n",
      "Epoch 8/15\n",
      "\u001b[1m69/69\u001b[0m \u001b[32m━━━━━━━━━━━━━━━━━━━━\u001b[0m\u001b[37m\u001b[0m \u001b[1m218s\u001b[0m 3s/step - accuracy: 1.0000 - loss: 0.0633 - val_accuracy: 0.9665 - val_loss: 0.1122\n",
      "Epoch 9/15\n",
      "\u001b[1m69/69\u001b[0m \u001b[32m━━━━━━━━━━━━━━━━━━━━\u001b[0m\u001b[37m\u001b[0m \u001b[1m1208s\u001b[0m 18s/step - accuracy: 0.9760 - loss: 0.0947 - val_accuracy: 0.9621 - val_loss: 0.1101\n",
      "Epoch 10/15\n",
      "\u001b[1m69/69\u001b[0m \u001b[32m━━━━━━━━━━━━━━━━━━━━\u001b[0m\u001b[37m\u001b[0m \u001b[1m222s\u001b[0m 3s/step - accuracy: 1.0000 - loss: 0.0483 - val_accuracy: 0.9643 - val_loss: 0.1021\n",
      "Epoch 11/15\n",
      "\u001b[1m69/69\u001b[0m \u001b[32m━━━━━━━━━━━━━━━━━━━━\u001b[0m\u001b[37m\u001b[0m \u001b[1m1197s\u001b[0m 17s/step - accuracy: 0.9790 - loss: 0.0754 - val_accuracy: 0.9710 - val_loss: 0.0978\n",
      "Epoch 12/15\n",
      "\u001b[1m69/69\u001b[0m \u001b[32m━━━━━━━━━━━━━━━━━━━━\u001b[0m\u001b[37m\u001b[0m \u001b[1m218s\u001b[0m 3s/step - accuracy: 1.0000 - loss: 0.0548 - val_accuracy: 0.9643 - val_loss: 0.1045\n",
      "Epoch 13/15\n",
      "\u001b[1m69/69\u001b[0m \u001b[32m━━━━━━━━━━━━━━━━━━━━\u001b[0m\u001b[37m\u001b[0m \u001b[1m1199s\u001b[0m 17s/step - accuracy: 0.9812 - loss: 0.0673 - val_accuracy: 0.9777 - val_loss: 0.0826\n",
      "Epoch 14/15\n",
      "\u001b[1m69/69\u001b[0m \u001b[32m━━━━━━━━━━━━━━━━━━━━\u001b[0m\u001b[37m\u001b[0m \u001b[1m219s\u001b[0m 3s/step - accuracy: 0.9375 - loss: 0.1414 - val_accuracy: 0.9732 - val_loss: 0.0820\n",
      "Epoch 15/15\n",
      "\u001b[1m69/69\u001b[0m \u001b[32m━━━━━━━━━━━━━━━━━━━━\u001b[0m\u001b[37m\u001b[0m \u001b[1m1189s\u001b[0m 17s/step - accuracy: 0.9840 - loss: 0.0584 - val_accuracy: 0.9754 - val_loss: 0.0722\n",
      "\u001b[1m15/15\u001b[0m \u001b[32m━━━━━━━━━━━━━━━━━━━━\u001b[0m\u001b[37m\u001b[0m \u001b[1m146s\u001b[0m 10s/step - accuracy: 0.9900 - loss: 0.0646\n",
      "Test Loss: 0.0745031088590622\n",
      "Test Accuracy: 0.9812108278274536\n",
      "\u001b[1m15/15\u001b[0m \u001b[32m━━━━━━━━━━━━━━━━━━━━\u001b[0m\u001b[37m\u001b[0m \u001b[1m130s\u001b[0m 9s/step - accuracy: 0.9706 - loss: 0.0714\n",
      "Test Loss: 0.0745031088590622\n",
      "Test Accuracy: 0.9812108278274536\n",
      "Validation Loss: 0.07431984692811966\n",
      "Validation Accuracy: 0.9748954176902771\n"
     ]
    }
   ],
   "source": [
    "import tensorflow as tf\n",
    "from tensorflow.keras.applications import VGG19, DenseNet121\n",
    "from tensorflow.keras.layers import Dense, GlobalAveragePooling2D, Concatenate, Input\n",
    "from tensorflow.keras.models import Model\n",
    "from tensorflow.keras.optimizers import Adam\n",
    "from tensorflow.keras.preprocessing.image import ImageDataGenerator\n",
    "\n",
    "train_dir = './images/train'\n",
    "test_dir = './images/test'\n",
    "validation_dir = './images/val'\n",
    "\n",
    "# Data augmentation for training data\n",
    "train_datagen = ImageDataGenerator(rescale=1./255)\n",
    "\n",
    "# Only rescaling for validation and test data\n",
    "val_test_datagen = ImageDataGenerator(rescale=1./255)\n",
    "\n",
    "# Load data from directories\n",
    "train_generator = train_datagen.flow_from_directory(\n",
    "    train_dir,\n",
    "    target_size=(224, 224),\n",
    "    batch_size=32,\n",
    "    class_mode='binary'\n",
    ")\n",
    "\n",
    "validation_generator = val_test_datagen.flow_from_directory(\n",
    "    validation_dir,\n",
    "    target_size=(224, 224),\n",
    "    batch_size=32,\n",
    "    class_mode='binary'\n",
    ")\n",
    "\n",
    "test_generator = val_test_datagen.flow_from_directory(\n",
    "    test_dir,\n",
    "    target_size=(224, 224),\n",
    "    batch_size=32,\n",
    "    class_mode='binary',\n",
    "    shuffle=False\n",
    ")\n",
    "\n",
    "# Load base models without the top layers\n",
    "input_tensor = Input(shape=(224, 224, 3))\n",
    "vgg19_base = VGG19(weights='imagenet', include_top=False, input_tensor=input_tensor)\n",
    "densenet_base = DenseNet121(weights='imagenet', include_top=False, input_tensor=input_tensor)\n",
    "\n",
    "# Freeze base model layers\n",
    "for layer in vgg19_base.layers:\n",
    "    layer.trainable = False\n",
    "for layer in densenet_base.layers:\n",
    "    layer.trainable = False\n",
    "\n",
    "# Extract features\n",
    "vgg19_output = GlobalAveragePooling2D()(vgg19_base.output)\n",
    "densenet_output = GlobalAveragePooling2D()(densenet_base.output)\n",
    "\n",
    "# Concatenate features\n",
    "merged = Concatenate()([vgg19_output, densenet_output])\n",
    "merged = Dense(1024, activation='relu')(merged)\n",
    "predictions = Dense(1, activation='sigmoid')(merged)\n",
    "\n",
    "# Define final model\n",
    "model = Model(inputs=input_tensor, outputs=predictions)\n",
    "model.compile(\n",
    "    optimizer=Adam(learning_rate=0.0001),\n",
    "    loss='binary_crossentropy',\n",
    "    metrics=['accuracy']\n",
    ")\n",
    "\n",
    "history = model.fit(\n",
    "    train_generator,\n",
    "    steps_per_epoch=train_generator.samples // train_generator.batch_size,\n",
    "    validation_data=validation_generator,\n",
    "    validation_steps=validation_generator.samples // validation_generator.batch_size,\n",
    "    epochs=15\n",
    ")\n",
    "\n",
    "test_loss, test_accuracy = model.evaluate(test_generator)\n",
    "print(f'Test Loss: {test_loss}')\n",
    "print(f'Test Accuracy: {test_accuracy}')\n",
    "val_loss, val_accuracy = model.evaluate(validation_generator)\n",
    "print(f'Test Loss: {test_loss}')\n",
    "print(f'Test Accuracy: {test_accuracy}')\n",
    "print(f'Validation Loss: {val_loss}')\n",
    "print(f'Validation Accuracy: {val_accuracy}')"
   ]
  },
  {
   "cell_type": "code",
   "execution_count": null,
   "id": "356f2196-2cb1-4af2-9ce0-484ca8c23134",
   "metadata": {},
   "outputs": [],
   "source": []
  }
 ],
 "metadata": {
  "kernelspec": {
   "display_name": "Python 3 (ipykernel)",
   "language": "python",
   "name": "python3"
  },
  "language_info": {
   "codemirror_mode": {
    "name": "ipython",
    "version": 3
   },
   "file_extension": ".py",
   "mimetype": "text/x-python",
   "name": "python",
   "nbconvert_exporter": "python",
   "pygments_lexer": "ipython3",
   "version": "3.11.7"
  }
 },
 "nbformat": 4,
 "nbformat_minor": 5
}
